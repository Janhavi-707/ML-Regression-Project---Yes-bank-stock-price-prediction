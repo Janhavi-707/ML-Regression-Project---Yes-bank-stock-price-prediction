{
 "cells": [
  {
   "cell_type": "markdown",
   "id": "c6f0df4d-e153-4b33-9044-0f67b59e67cc",
   "metadata": {},
   "source": [
    "Janhavi Shinde\n",
    "\n",
    "Roll No. DS24MS14\n",
    "\n",
    "Yes Bank Stock Price prediction\n",
    "\n",
    "Problem Statement-\n",
    "Yes Bank is a popular bank in India, but since 2018, it has been in the news because of a fraud case involving Rana Kapoor. \n",
    "This event raised curiosity about how such news affects the bank's stock prices. The dataset you have contains monthly details \n",
    "of Yes Bank’s stock prices — including the opening, closing, highest, and lowest prices — from the time the bank started. The main\n",
    "goal is to use this data to predict the closing stock price for each month. We also want to explore whether time series models or\n",
    "other prediction methods can accurately forecast these prices, even during unusual events like fraud news"
   ]
  },
  {
   "cell_type": "markdown",
   "id": "3bc55f6e-e34e-4332-81b1-dc61bf9fee62",
   "metadata": {},
   "source": [
    "import packages"
   ]
  },
  {
   "cell_type": "code",
   "execution_count": 1,
   "id": "b8b1a356-cce1-4527-a29c-ffd504ee49f0",
   "metadata": {},
   "outputs": [],
   "source": [
    "import pandas as pd \n",
    "import numpy as np\n",
    "import seaborn as sns\n",
    "import datetime as dt\n",
    "from matplotlib import pyplot as plt\n",
    "%matplotlib inline\n",
    "\n",
    "import warnings\n",
    "warnings.filterwarnings('ignore')"
   ]
  },
  {
   "cell_type": "markdown",
   "id": "fd400a8c-7e06-41ea-bdaf-4686459ef083",
   "metadata": {},
   "source": [
    "Load dataset"
   ]
  },
  {
   "cell_type": "code",
   "execution_count": 6,
   "id": "8ed14c34-dafc-490e-8a2f-d7d244d71156",
   "metadata": {},
   "outputs": [],
   "source": [
    "df = pd.read_csv(\"data_YesBank.csv\")"
   ]
  },
  {
   "cell_type": "code",
   "execution_count": 7,
   "id": "e1072227-4d6c-4efa-91f2-defd5829c293",
   "metadata": {},
   "outputs": [
    {
     "name": "stdout",
     "output_type": "stream",
     "text": [
      "<class 'pandas.core.frame.DataFrame'>\n",
      "RangeIndex: 185 entries, 0 to 184\n",
      "Data columns (total 5 columns):\n",
      " #   Column  Non-Null Count  Dtype  \n",
      "---  ------  --------------  -----  \n",
      " 0   Date    185 non-null    object \n",
      " 1   Open    185 non-null    float64\n",
      " 2   High    185 non-null    float64\n",
      " 3   Low     185 non-null    float64\n",
      " 4   Close   185 non-null    float64\n",
      "dtypes: float64(4), object(1)\n",
      "memory usage: 7.4+ KB\n"
     ]
    }
   ],
   "source": [
    "df.info()"
   ]
  },
  {
   "cell_type": "code",
   "execution_count": 8,
   "id": "fa718514-87f9-4b2d-ba51-076f7d6def42",
   "metadata": {},
   "outputs": [
    {
     "data": {
      "text/html": [
       "<div>\n",
       "<style scoped>\n",
       "    .dataframe tbody tr th:only-of-type {\n",
       "        vertical-align: middle;\n",
       "    }\n",
       "\n",
       "    .dataframe tbody tr th {\n",
       "        vertical-align: top;\n",
       "    }\n",
       "\n",
       "    .dataframe thead th {\n",
       "        text-align: right;\n",
       "    }\n",
       "</style>\n",
       "<table border=\"1\" class=\"dataframe\">\n",
       "  <thead>\n",
       "    <tr style=\"text-align: right;\">\n",
       "      <th></th>\n",
       "      <th>Date</th>\n",
       "      <th>Open</th>\n",
       "      <th>High</th>\n",
       "      <th>Low</th>\n",
       "      <th>Close</th>\n",
       "    </tr>\n",
       "  </thead>\n",
       "  <tbody>\n",
       "    <tr>\n",
       "      <th>0</th>\n",
       "      <td>Jul-05</td>\n",
       "      <td>13.00</td>\n",
       "      <td>14.00</td>\n",
       "      <td>11.25</td>\n",
       "      <td>12.46</td>\n",
       "    </tr>\n",
       "    <tr>\n",
       "      <th>1</th>\n",
       "      <td>Aug-05</td>\n",
       "      <td>12.58</td>\n",
       "      <td>14.88</td>\n",
       "      <td>12.55</td>\n",
       "      <td>13.42</td>\n",
       "    </tr>\n",
       "    <tr>\n",
       "      <th>2</th>\n",
       "      <td>Sep-05</td>\n",
       "      <td>13.48</td>\n",
       "      <td>14.87</td>\n",
       "      <td>12.27</td>\n",
       "      <td>13.30</td>\n",
       "    </tr>\n",
       "    <tr>\n",
       "      <th>3</th>\n",
       "      <td>Oct-05</td>\n",
       "      <td>13.20</td>\n",
       "      <td>14.47</td>\n",
       "      <td>12.40</td>\n",
       "      <td>12.99</td>\n",
       "    </tr>\n",
       "    <tr>\n",
       "      <th>4</th>\n",
       "      <td>Nov-05</td>\n",
       "      <td>13.35</td>\n",
       "      <td>13.88</td>\n",
       "      <td>12.88</td>\n",
       "      <td>13.41</td>\n",
       "    </tr>\n",
       "  </tbody>\n",
       "</table>\n",
       "</div>"
      ],
      "text/plain": [
       "     Date   Open   High    Low  Close\n",
       "0  Jul-05  13.00  14.00  11.25  12.46\n",
       "1  Aug-05  12.58  14.88  12.55  13.42\n",
       "2  Sep-05  13.48  14.87  12.27  13.30\n",
       "3  Oct-05  13.20  14.47  12.40  12.99\n",
       "4  Nov-05  13.35  13.88  12.88  13.41"
      ]
     },
     "execution_count": 8,
     "metadata": {},
     "output_type": "execute_result"
    }
   ],
   "source": [
    "df.head()"
   ]
  },
  {
   "cell_type": "code",
   "execution_count": 13,
   "id": "06936e53-e299-4714-a1ca-7797e5d74bda",
   "metadata": {},
   "outputs": [
    {
     "data": {
      "text/plain": [
       "(185, 5)"
      ]
     },
     "execution_count": 13,
     "metadata": {},
     "output_type": "execute_result"
    }
   ],
   "source": [
    "\n",
    "df.shape"
   ]
  },
  {
   "cell_type": "markdown",
   "id": "9165fb00-c164-4339-b622-62047b3a8650",
   "metadata": {},
   "source": [
    "Changing the datatype of Date column to datetime and extracting the day, month and year"
   ]
  },
  {
   "cell_type": "code",
   "execution_count": 9,
   "id": "d379cfc8-e4a2-40f0-93ed-1dd880a80847",
   "metadata": {},
   "outputs": [],
   "source": [
    "df['Date'] = pd.to_datetime(df['Date'], format = '%b-%y')"
   ]
  },
  {
   "cell_type": "code",
   "execution_count": 11,
   "id": "6dcc0bec-8375-4589-a111-6302f821a1c4",
   "metadata": {},
   "outputs": [],
   "source": [
    "import datetime as dt"
   ]
  },
  {
   "cell_type": "code",
   "execution_count": 12,
   "id": "ad110f19-fda4-44d2-9306-ae3b8d0f0e93",
   "metadata": {},
   "outputs": [
    {
     "data": {
      "text/plain": [
       "0      1\n",
       "1      1\n",
       "2      1\n",
       "3      1\n",
       "4      1\n",
       "      ..\n",
       "180    1\n",
       "181    1\n",
       "182    1\n",
       "183    1\n",
       "184    1\n",
       "Name: Date, Length: 185, dtype: int32"
      ]
     },
     "execution_count": 12,
     "metadata": {},
     "output_type": "execute_result"
    }
   ],
   "source": [
    "df[\"Date\"].dt.year\n",
    "df[\"Date\"].dt.month\n",
    "df[\"Date\"].dt.day"
   ]
  },
  {
   "cell_type": "code",
   "execution_count": 14,
   "id": "e9d8f885-6e1d-4f83-92ed-b9f67f46085d",
   "metadata": {},
   "outputs": [],
   "source": [
    "df[\"year\"] = df[\"Date\"].dt.year\n",
    "df[\"month\"] = df[\"Date\"].dt.month\n",
    "df[\"day\"] = df[\"Date\"].dt.day_name()"
   ]
  },
  {
   "cell_type": "code",
   "execution_count": 15,
   "id": "0eed12a0-5b2a-410b-b2c1-c2dcd1a33be9",
   "metadata": {},
   "outputs": [],
   "source": [
    "df['day_of_week'] = df['Date'].dt.dayofweek"
   ]
  },
  {
   "cell_type": "code",
   "execution_count": 16,
   "id": "18878d06-76ab-452d-84fb-2d24610c7416",
   "metadata": {},
   "outputs": [
    {
     "data": {
      "text/html": [
       "<div>\n",
       "<style scoped>\n",
       "    .dataframe tbody tr th:only-of-type {\n",
       "        vertical-align: middle;\n",
       "    }\n",
       "\n",
       "    .dataframe tbody tr th {\n",
       "        vertical-align: top;\n",
       "    }\n",
       "\n",
       "    .dataframe thead th {\n",
       "        text-align: right;\n",
       "    }\n",
       "</style>\n",
       "<table border=\"1\" class=\"dataframe\">\n",
       "  <thead>\n",
       "    <tr style=\"text-align: right;\">\n",
       "      <th></th>\n",
       "      <th>Date</th>\n",
       "      <th>Open</th>\n",
       "      <th>High</th>\n",
       "      <th>Low</th>\n",
       "      <th>Close</th>\n",
       "      <th>year</th>\n",
       "      <th>month</th>\n",
       "      <th>day</th>\n",
       "      <th>day_of_week</th>\n",
       "    </tr>\n",
       "  </thead>\n",
       "  <tbody>\n",
       "    <tr>\n",
       "      <th>0</th>\n",
       "      <td>2005-07-01</td>\n",
       "      <td>13.00</td>\n",
       "      <td>14.00</td>\n",
       "      <td>11.25</td>\n",
       "      <td>12.46</td>\n",
       "      <td>2005</td>\n",
       "      <td>7</td>\n",
       "      <td>Friday</td>\n",
       "      <td>4</td>\n",
       "    </tr>\n",
       "    <tr>\n",
       "      <th>1</th>\n",
       "      <td>2005-08-01</td>\n",
       "      <td>12.58</td>\n",
       "      <td>14.88</td>\n",
       "      <td>12.55</td>\n",
       "      <td>13.42</td>\n",
       "      <td>2005</td>\n",
       "      <td>8</td>\n",
       "      <td>Monday</td>\n",
       "      <td>0</td>\n",
       "    </tr>\n",
       "    <tr>\n",
       "      <th>2</th>\n",
       "      <td>2005-09-01</td>\n",
       "      <td>13.48</td>\n",
       "      <td>14.87</td>\n",
       "      <td>12.27</td>\n",
       "      <td>13.30</td>\n",
       "      <td>2005</td>\n",
       "      <td>9</td>\n",
       "      <td>Thursday</td>\n",
       "      <td>3</td>\n",
       "    </tr>\n",
       "    <tr>\n",
       "      <th>3</th>\n",
       "      <td>2005-10-01</td>\n",
       "      <td>13.20</td>\n",
       "      <td>14.47</td>\n",
       "      <td>12.40</td>\n",
       "      <td>12.99</td>\n",
       "      <td>2005</td>\n",
       "      <td>10</td>\n",
       "      <td>Saturday</td>\n",
       "      <td>5</td>\n",
       "    </tr>\n",
       "    <tr>\n",
       "      <th>4</th>\n",
       "      <td>2005-11-01</td>\n",
       "      <td>13.35</td>\n",
       "      <td>13.88</td>\n",
       "      <td>12.88</td>\n",
       "      <td>13.41</td>\n",
       "      <td>2005</td>\n",
       "      <td>11</td>\n",
       "      <td>Tuesday</td>\n",
       "      <td>1</td>\n",
       "    </tr>\n",
       "  </tbody>\n",
       "</table>\n",
       "</div>"
      ],
      "text/plain": [
       "        Date   Open   High    Low  Close  year  month       day  day_of_week\n",
       "0 2005-07-01  13.00  14.00  11.25  12.46  2005      7    Friday            4\n",
       "1 2005-08-01  12.58  14.88  12.55  13.42  2005      8    Monday            0\n",
       "2 2005-09-01  13.48  14.87  12.27  13.30  2005      9  Thursday            3\n",
       "3 2005-10-01  13.20  14.47  12.40  12.99  2005     10  Saturday            5\n",
       "4 2005-11-01  13.35  13.88  12.88  13.41  2005     11   Tuesday            1"
      ]
     },
     "execution_count": 16,
     "metadata": {},
     "output_type": "execute_result"
    }
   ],
   "source": [
    "df.head()"
   ]
  },
  {
   "cell_type": "markdown",
   "id": "a503560f-3dec-4bd6-8d3e-b1126c9fb805",
   "metadata": {},
   "source": [
    "Data Preprocessing"
   ]
  },
  {
   "cell_type": "code",
   "execution_count": 17,
   "id": "88b63b80-5665-4a88-afaa-f48120363cd7",
   "metadata": {},
   "outputs": [
    {
     "data": {
      "text/plain": [
       "0"
      ]
     },
     "execution_count": 17,
     "metadata": {},
     "output_type": "execute_result"
    }
   ],
   "source": [
    "df.duplicated().sum()"
   ]
  },
  {
   "cell_type": "code",
   "execution_count": 18,
   "id": "25708405-f365-4772-841e-6a6aba188e7a",
   "metadata": {},
   "outputs": [
    {
     "data": {
      "text/plain": [
       "Date           0\n",
       "Open           0\n",
       "High           0\n",
       "Low            0\n",
       "Close          0\n",
       "year           0\n",
       "month          0\n",
       "day            0\n",
       "day_of_week    0\n",
       "dtype: int64"
      ]
     },
     "execution_count": 18,
     "metadata": {},
     "output_type": "execute_result"
    }
   ],
   "source": [
    "df.isnull().sum()"
   ]
  },
  {
   "cell_type": "code",
   "execution_count": 19,
   "id": "9c715772-80b6-4433-9c18-f4d9bfb63abd",
   "metadata": {},
   "outputs": [
    {
     "data": {
      "text/plain": [
       "Date           datetime64[ns]\n",
       "Open                  float64\n",
       "High                  float64\n",
       "Low                   float64\n",
       "Close                 float64\n",
       "year                    int32\n",
       "month                   int32\n",
       "day                    object\n",
       "day_of_week             int32\n",
       "dtype: object"
      ]
     },
     "execution_count": 19,
     "metadata": {},
     "output_type": "execute_result"
    }
   ],
   "source": [
    "df.dtypes"
   ]
  },
  {
   "cell_type": "code",
   "execution_count": 20,
   "id": "eb75cc92-4a52-49db-af35-d760c5f0add8",
   "metadata": {},
   "outputs": [
    {
     "data": {
      "text/html": [
       "<div>\n",
       "<style scoped>\n",
       "    .dataframe tbody tr th:only-of-type {\n",
       "        vertical-align: middle;\n",
       "    }\n",
       "\n",
       "    .dataframe tbody tr th {\n",
       "        vertical-align: top;\n",
       "    }\n",
       "\n",
       "    .dataframe thead th {\n",
       "        text-align: right;\n",
       "    }\n",
       "</style>\n",
       "<table border=\"1\" class=\"dataframe\">\n",
       "  <thead>\n",
       "    <tr style=\"text-align: right;\">\n",
       "      <th></th>\n",
       "      <th>count</th>\n",
       "      <th>mean</th>\n",
       "      <th>min</th>\n",
       "      <th>25%</th>\n",
       "      <th>50%</th>\n",
       "      <th>75%</th>\n",
       "      <th>max</th>\n",
       "      <th>std</th>\n",
       "    </tr>\n",
       "  </thead>\n",
       "  <tbody>\n",
       "    <tr>\n",
       "      <th>Date</th>\n",
       "      <td>185</td>\n",
       "      <td>2013-03-01 19:04:12.972973056</td>\n",
       "      <td>2005-07-01 00:00:00</td>\n",
       "      <td>2009-05-01 00:00:00</td>\n",
       "      <td>2013-03-01 00:00:00</td>\n",
       "      <td>2017-01-01 00:00:00</td>\n",
       "      <td>2020-11-01 00:00:00</td>\n",
       "      <td>NaN</td>\n",
       "    </tr>\n",
       "    <tr>\n",
       "      <th>Open</th>\n",
       "      <td>185.0</td>\n",
       "      <td>105.541405</td>\n",
       "      <td>10.0</td>\n",
       "      <td>33.8</td>\n",
       "      <td>62.98</td>\n",
       "      <td>153.0</td>\n",
       "      <td>369.95</td>\n",
       "      <td>98.87985</td>\n",
       "    </tr>\n",
       "    <tr>\n",
       "      <th>High</th>\n",
       "      <td>185.0</td>\n",
       "      <td>116.104324</td>\n",
       "      <td>11.24</td>\n",
       "      <td>36.14</td>\n",
       "      <td>72.55</td>\n",
       "      <td>169.19</td>\n",
       "      <td>404.0</td>\n",
       "      <td>106.333497</td>\n",
       "    </tr>\n",
       "    <tr>\n",
       "      <th>Low</th>\n",
       "      <td>185.0</td>\n",
       "      <td>94.947838</td>\n",
       "      <td>5.55</td>\n",
       "      <td>28.51</td>\n",
       "      <td>58.0</td>\n",
       "      <td>138.35</td>\n",
       "      <td>345.5</td>\n",
       "      <td>91.219415</td>\n",
       "    </tr>\n",
       "    <tr>\n",
       "      <th>Close</th>\n",
       "      <td>185.0</td>\n",
       "      <td>105.204703</td>\n",
       "      <td>9.98</td>\n",
       "      <td>33.45</td>\n",
       "      <td>62.54</td>\n",
       "      <td>153.3</td>\n",
       "      <td>367.9</td>\n",
       "      <td>98.583153</td>\n",
       "    </tr>\n",
       "    <tr>\n",
       "      <th>year</th>\n",
       "      <td>185.0</td>\n",
       "      <td>2012.702703</td>\n",
       "      <td>2005.0</td>\n",
       "      <td>2009.0</td>\n",
       "      <td>2013.0</td>\n",
       "      <td>2017.0</td>\n",
       "      <td>2020.0</td>\n",
       "      <td>4.471315</td>\n",
       "    </tr>\n",
       "    <tr>\n",
       "      <th>month</th>\n",
       "      <td>185.0</td>\n",
       "      <td>6.567568</td>\n",
       "      <td>1.0</td>\n",
       "      <td>4.0</td>\n",
       "      <td>7.0</td>\n",
       "      <td>10.0</td>\n",
       "      <td>12.0</td>\n",
       "      <td>3.446332</td>\n",
       "    </tr>\n",
       "    <tr>\n",
       "      <th>day_of_week</th>\n",
       "      <td>185.0</td>\n",
       "      <td>3.054054</td>\n",
       "      <td>0.0</td>\n",
       "      <td>1.0</td>\n",
       "      <td>3.0</td>\n",
       "      <td>5.0</td>\n",
       "      <td>6.0</td>\n",
       "      <td>2.001982</td>\n",
       "    </tr>\n",
       "  </tbody>\n",
       "</table>\n",
       "</div>"
      ],
      "text/plain": [
       "             count                           mean                  min  \\\n",
       "Date           185  2013-03-01 19:04:12.972973056  2005-07-01 00:00:00   \n",
       "Open         185.0                     105.541405                 10.0   \n",
       "High         185.0                     116.104324                11.24   \n",
       "Low          185.0                      94.947838                 5.55   \n",
       "Close        185.0                     105.204703                 9.98   \n",
       "year         185.0                    2012.702703               2005.0   \n",
       "month        185.0                       6.567568                  1.0   \n",
       "day_of_week  185.0                       3.054054                  0.0   \n",
       "\n",
       "                             25%                  50%                  75%  \\\n",
       "Date         2009-05-01 00:00:00  2013-03-01 00:00:00  2017-01-01 00:00:00   \n",
       "Open                        33.8                62.98                153.0   \n",
       "High                       36.14                72.55               169.19   \n",
       "Low                        28.51                 58.0               138.35   \n",
       "Close                      33.45                62.54                153.3   \n",
       "year                      2009.0               2013.0               2017.0   \n",
       "month                        4.0                  7.0                 10.0   \n",
       "day_of_week                  1.0                  3.0                  5.0   \n",
       "\n",
       "                             max         std  \n",
       "Date         2020-11-01 00:00:00         NaN  \n",
       "Open                      369.95    98.87985  \n",
       "High                       404.0  106.333497  \n",
       "Low                        345.5   91.219415  \n",
       "Close                      367.9   98.583153  \n",
       "year                      2020.0    4.471315  \n",
       "month                       12.0    3.446332  \n",
       "day_of_week                  6.0    2.001982  "
      ]
     },
     "execution_count": 20,
     "metadata": {},
     "output_type": "execute_result"
    }
   ],
   "source": [
    "df.describe().T"
   ]
  },
  {
   "cell_type": "code",
   "execution_count": 21,
   "id": "b09c8245-6302-48c2-9243-a75aa628289d",
   "metadata": {},
   "outputs": [],
   "source": [
    "df = df.drop(columns=['Date'])\n",
    "df = df.drop(columns=['day'])"
   ]
  },
  {
   "cell_type": "code",
   "execution_count": 22,
   "id": "3d8cef44-914e-4c29-b5ff-2605230c42bf",
   "metadata": {},
   "outputs": [
    {
     "data": {
      "text/html": [
       "<div>\n",
       "<style scoped>\n",
       "    .dataframe tbody tr th:only-of-type {\n",
       "        vertical-align: middle;\n",
       "    }\n",
       "\n",
       "    .dataframe tbody tr th {\n",
       "        vertical-align: top;\n",
       "    }\n",
       "\n",
       "    .dataframe thead th {\n",
       "        text-align: right;\n",
       "    }\n",
       "</style>\n",
       "<table border=\"1\" class=\"dataframe\">\n",
       "  <thead>\n",
       "    <tr style=\"text-align: right;\">\n",
       "      <th></th>\n",
       "      <th>Open</th>\n",
       "      <th>High</th>\n",
       "      <th>Low</th>\n",
       "      <th>Close</th>\n",
       "      <th>year</th>\n",
       "      <th>month</th>\n",
       "      <th>day_of_week</th>\n",
       "    </tr>\n",
       "  </thead>\n",
       "  <tbody>\n",
       "    <tr>\n",
       "      <th>0</th>\n",
       "      <td>13.00</td>\n",
       "      <td>14.00</td>\n",
       "      <td>11.25</td>\n",
       "      <td>12.46</td>\n",
       "      <td>2005</td>\n",
       "      <td>7</td>\n",
       "      <td>4</td>\n",
       "    </tr>\n",
       "    <tr>\n",
       "      <th>1</th>\n",
       "      <td>12.58</td>\n",
       "      <td>14.88</td>\n",
       "      <td>12.55</td>\n",
       "      <td>13.42</td>\n",
       "      <td>2005</td>\n",
       "      <td>8</td>\n",
       "      <td>0</td>\n",
       "    </tr>\n",
       "    <tr>\n",
       "      <th>2</th>\n",
       "      <td>13.48</td>\n",
       "      <td>14.87</td>\n",
       "      <td>12.27</td>\n",
       "      <td>13.30</td>\n",
       "      <td>2005</td>\n",
       "      <td>9</td>\n",
       "      <td>3</td>\n",
       "    </tr>\n",
       "    <tr>\n",
       "      <th>3</th>\n",
       "      <td>13.20</td>\n",
       "      <td>14.47</td>\n",
       "      <td>12.40</td>\n",
       "      <td>12.99</td>\n",
       "      <td>2005</td>\n",
       "      <td>10</td>\n",
       "      <td>5</td>\n",
       "    </tr>\n",
       "    <tr>\n",
       "      <th>4</th>\n",
       "      <td>13.35</td>\n",
       "      <td>13.88</td>\n",
       "      <td>12.88</td>\n",
       "      <td>13.41</td>\n",
       "      <td>2005</td>\n",
       "      <td>11</td>\n",
       "      <td>1</td>\n",
       "    </tr>\n",
       "  </tbody>\n",
       "</table>\n",
       "</div>"
      ],
      "text/plain": [
       "    Open   High    Low  Close  year  month  day_of_week\n",
       "0  13.00  14.00  11.25  12.46  2005      7            4\n",
       "1  12.58  14.88  12.55  13.42  2005      8            0\n",
       "2  13.48  14.87  12.27  13.30  2005      9            3\n",
       "3  13.20  14.47  12.40  12.99  2005     10            5\n",
       "4  13.35  13.88  12.88  13.41  2005     11            1"
      ]
     },
     "execution_count": 22,
     "metadata": {},
     "output_type": "execute_result"
    }
   ],
   "source": [
    "df.head()"
   ]
  },
  {
   "cell_type": "markdown",
   "id": "59544d2d-68c7-45a7-bc09-4a56467a32c7",
   "metadata": {},
   "source": [
    "Exploratory Data Analysis (EDA)\n",
    "Univariate analysis\n",
    "1. Histogram "
   ]
  },
  {
   "cell_type": "code",
   "execution_count": 26,
   "id": "f16ee563-263f-4541-b382-cab977f3706c",
   "metadata": {},
   "outputs": [
    {
     "data": {
      "image/png": "[encoded data removed]",
      "text/plain": [
       "<Figure size 1000x500 with 1 Axes>"
      ]
     },
     "metadata": {},
     "output_type": "display_data"
    }
   ],
   "source": [
    "plt.figure(figsize=(10,5))\n",
    "sns.histplot(df['Close'],kde=True,bins=25)\n",
    "plt.title(\"Distribution of Closing Prices\")\n",
    "plt.xlabel(\"Closing Price\")\n",
    "plt.ylabel(\"Frequency\")\n",
    "plt.show()\n"
   ]
  },
  {
   "cell_type": "markdown",
   "id": "084879a0-55a5-430a-993e-fa37e116e0f7",
   "metadata": {},
   "source": [
    "Right-skewed - meaning that most of the closing prices are on the lower end, while fewer data points have very high closing prices."
   ]
  },
  {
   "cell_type": "markdown",
   "id": "43761b3e-77d0-4444-b2f6-2ee340081b4d",
   "metadata": {},
   "source": [
    "2. Bar Plot "
   ]
  },
  {
   "cell_type": "code",
   "execution_count": 28,
   "id": "12478c9c-c91e-4c8b-8d0c-183675a40abe",
   "metadata": {},
   "outputs": [
    {
     "data": {
      "image/png": "[encoded data removed]",
      "text/plain": [
       "<Figure size 1000x500 with 1 Axes>"
      ]
     },
     "metadata": {},
     "output_type": "display_data"
    }
   ],
   "source": [
    "monthly_avg=df.groupby('month')['Close'].mean()\n",
    "monthly_avg.plot(kind='bar',figsize=(10,5), color = 'yellow')\n",
    "plt.title(\"Average Closing Price Per Month\")\n",
    "plt.ylabel(\" Average of Closing Price\")\n",
    "plt.xlabel(\"Month\")\n",
    "plt.show()"
   ]
  },
  {
   "cell_type": "markdown",
   "id": "bb304f39-d2e2-4b97-98cb-fb997ce69247",
   "metadata": {},
   "source": [
    "Month April have highest closing price while September shows lowest closing price"
   ]
  },
  {
   "cell_type": "markdown",
   "id": "19b3608d-49e8-40dd-ae7b-f0539828fd9b",
   "metadata": {},
   "source": [
    "3. Pie Chart"
   ]
  },
  {
   "cell_type": "code",
   "execution_count": 29,
   "id": "e197729f-3b48-48eb-ae5f-0ed75961ab56",
   "metadata": {},
   "outputs": [
    {
     "data": {
      "image/png": "[encoded data removed]",
      "text/plain": [
       "<Figure size 1000x500 with 1 Axes>"
      ]
     },
     "metadata": {},
     "output_type": "display_data"
    }
   ],
   "source": [
    "plt.figure(figsize = (10,5))\n",
    "df['day_of_week'].value_counts().plot(kind='pie', autopct='%1.1f%%', startangle=90)\n",
    "plt.title('Distribution of Stocks by Day of the Week')\n",
    "plt.ylabel('')\n",
    "plt.show()"
   ]
  },
  {
   "cell_type": "markdown",
   "id": "06c6e3be-632d-43d4-b0d0-b73c110a8abe",
   "metadata": {},
   "source": [
    "Distribution of the stock prices across all days of week is almost balanced"
   ]
  },
  {
   "cell_type": "markdown",
   "id": "b77f0bb7-b15b-4f52-a676-8a73cff928a0",
   "metadata": {},
   "source": [
    "Bivariate Analysis"
   ]
  },
  {
   "cell_type": "markdown",
   "id": "25494bb2-0c38-4eae-98ff-456de68d93b6",
   "metadata": {},
   "source": [
    "1. Scatter plot"
   ]
  },
  {
   "cell_type": "code",
   "execution_count": 32,
   "id": "d5059477-a314-43f1-bf94-f58bcc1d74d9",
   "metadata": {},
   "outputs": [
    {
     "data": {
      "image/png": "[encoded data removed]",
      "text/plain": [
       "<Figure size 1000x500 with 1 Axes>"
      ]
     },
     "metadata": {},
     "output_type": "display_data"
    }
   ],
   "source": [
    "plt.figure(figsize = (10,5))\n",
    "sns.scatterplot(x='Open', y='Close', data=df, color ='green')\n",
    "plt.title('Opening vs Closing Price')\n",
    "plt.show()"
   ]
  },
  {
   "cell_type": "markdown",
   "id": "14458007-e613-4c85-ad45-fc47c06b8167",
   "metadata": {},
   "source": [
    "Opening and closing price shows positive correlation"
   ]
  },
  {
   "cell_type": "markdown",
   "id": "847e1483-cf5a-42d0-829f-fe2528b8c6a1",
   "metadata": {},
   "source": [
    "2. Scatter plot for Highest vs Lowest price"
   ]
  },
  {
   "cell_type": "code",
   "execution_count": 34,
   "id": "b6ab8ff9-c265-4546-a564-c59613bc1c06",
   "metadata": {},
   "outputs": [
    {
     "data": {
      "image/png": "[encoded data removed]",
      "text/plain": [
       "<Figure size 1000x500 with 1 Axes>"
      ]
     },
     "metadata": {},
     "output_type": "display_data"
    }
   ],
   "source": [
    "plt.figure(figsize = (10,5))\n",
    "sns.scatterplot(x='High', y='Low', data=df, color ='lightblue')\n",
    "plt.title('Highest vs Lowest Price')\n",
    "plt.show()"
   ]
  },
  {
   "cell_type": "markdown",
   "id": "3fab92b7-6fc7-47c1-a2b0-459c56eb7026",
   "metadata": {},
   "source": [
    "strong positive correlation between high and low prices."
   ]
  },
  {
   "cell_type": "markdown",
   "id": "e625ca7b-f2ee-444b-86f1-791abe4e978c",
   "metadata": {},
   "source": [
    "Multivariate Analysis"
   ]
  },
  {
   "cell_type": "markdown",
   "id": "0c880d51-9fe0-467b-a92e-42c6efb9e194",
   "metadata": {},
   "source": [
    "Line Graph"
   ]
  },
  {
   "cell_type": "code",
   "execution_count": 36,
   "id": "582a6cf1-91fe-4e70-8555-a6130e11c58c",
   "metadata": {},
   "outputs": [
    {
     "data": {
      "image/png": "[encoded data removed]",
      "text/plain": [
       "<Figure size 1000x500 with 1 Axes>"
      ]
     },
     "metadata": {},
     "output_type": "display_data"
    }
   ],
   "source": [
    "grouped = df.groupby('year')[['Open', 'Close', 'High', 'Low']].mean()\n",
    "grouped.plot(kind='line',figsize=(10,5), marker='o')\n",
    "plt.title('Stock Prices by Year')\n",
    "plt.xlabel('Years ')\n",
    "plt.ylabel('Price')\n",
    "plt.legend(title='Price Type')\n",
    "plt.tight_layout()\n",
    "plt.show()"
   ]
  },
  {
   "cell_type": "markdown",
   "id": "5608cb2d-d241-4897-9482-ff9a5350dbfa",
   "metadata": {},
   "source": [
    "The Opening, Closing, Lowest and Highest stock prices of Yes Bank moved closely together.\n",
    "It goes consistently upward trend until approx. 2017 then followed by a sharp decline.\n",
    "Showing stock prices peaked in year range 2016 to 2018."
   ]
  },
  {
   "cell_type": "markdown",
   "id": "3c66c86a-b6c3-470c-b54c-d446d86f0b42",
   "metadata": {},
   "source": [
    "Correlation Analysis"
   ]
  },
  {
   "cell_type": "code",
   "execution_count": 37,
   "id": "e95ac915-6f80-4bf2-a7f1-b6608a091379",
   "metadata": {},
   "outputs": [
    {
     "data": {
      "text/html": [
       "<div>\n",
       "<style scoped>\n",
       "    .dataframe tbody tr th:only-of-type {\n",
       "        vertical-align: middle;\n",
       "    }\n",
       "\n",
       "    .dataframe tbody tr th {\n",
       "        vertical-align: top;\n",
       "    }\n",
       "\n",
       "    .dataframe thead th {\n",
       "        text-align: right;\n",
       "    }\n",
       "</style>\n",
       "<table border=\"1\" class=\"dataframe\">\n",
       "  <thead>\n",
       "    <tr style=\"text-align: right;\">\n",
       "      <th></th>\n",
       "      <th>Open</th>\n",
       "      <th>High</th>\n",
       "      <th>Low</th>\n",
       "      <th>Close</th>\n",
       "    </tr>\n",
       "  </thead>\n",
       "  <tbody>\n",
       "    <tr>\n",
       "      <th>0</th>\n",
       "      <td>13.00</td>\n",
       "      <td>14.00</td>\n",
       "      <td>11.25</td>\n",
       "      <td>12.46</td>\n",
       "    </tr>\n",
       "    <tr>\n",
       "      <th>1</th>\n",
       "      <td>12.58</td>\n",
       "      <td>14.88</td>\n",
       "      <td>12.55</td>\n",
       "      <td>13.42</td>\n",
       "    </tr>\n",
       "    <tr>\n",
       "      <th>2</th>\n",
       "      <td>13.48</td>\n",
       "      <td>14.87</td>\n",
       "      <td>12.27</td>\n",
       "      <td>13.30</td>\n",
       "    </tr>\n",
       "    <tr>\n",
       "      <th>3</th>\n",
       "      <td>13.20</td>\n",
       "      <td>14.47</td>\n",
       "      <td>12.40</td>\n",
       "      <td>12.99</td>\n",
       "    </tr>\n",
       "    <tr>\n",
       "      <th>4</th>\n",
       "      <td>13.35</td>\n",
       "      <td>13.88</td>\n",
       "      <td>12.88</td>\n",
       "      <td>13.41</td>\n",
       "    </tr>\n",
       "  </tbody>\n",
       "</table>\n",
       "</div>"
      ],
      "text/plain": [
       "    Open   High    Low  Close\n",
       "0  13.00  14.00  11.25  12.46\n",
       "1  12.58  14.88  12.55  13.42\n",
       "2  13.48  14.87  12.27  13.30\n",
       "3  13.20  14.47  12.40  12.99\n",
       "4  13.35  13.88  12.88  13.41"
      ]
     },
     "execution_count": 37,
     "metadata": {},
     "output_type": "execute_result"
    }
   ],
   "source": [
    "float_dtype =  df.select_dtypes(include = 'float')\n",
    "float_dtype.head()"
   ]
  },
  {
   "cell_type": "code",
   "execution_count": 39,
   "id": "3c688d23-ae43-47b3-97bb-3aa09b6989c9",
   "metadata": {},
   "outputs": [
    {
     "data": {
      "image/png": "[encoded data removed]",
      "text/plain": [
       "<Figure size 640x480 with 2 Axes>"
      ]
     },
     "metadata": {},
     "output_type": "display_data"
    }
   ],
   "source": [
    "sns.heatmap(float_dtype.corr(), annot=True, cmap=\"coolwarm\")\n",
    "plt.show()"
   ]
  },
  {
   "cell_type": "markdown",
   "id": "6cde5c9c-2d8e-4f82-b474-4ecb7b51f28b",
   "metadata": {},
   "source": [
    "The heatmap shows a positive correlation between all the variables in the dataset."
   ]
  },
  {
   "cell_type": "markdown",
   "id": "f343d61a-e2e8-4a7e-877c-76377aa7a5cf",
   "metadata": {},
   "source": [
    "Outlier Detections"
   ]
  },
  {
   "cell_type": "code",
   "execution_count": 40,
   "id": "e9dba302-e7ab-4fe9-878f-6ad1b9cd9610",
   "metadata": {},
   "outputs": [
    {
     "data": {
      "image/png": "[encoded data removed]",
      "text/plain": [
       "<Figure size 800x400 with 1 Axes>"
      ]
     },
     "metadata": {},
     "output_type": "display_data"
    },
    {
     "data": {
      "image/png": "[encoded data removed]",
      "text/plain": [
       "<Figure size 800x400 with 1 Axes>"
      ]
     },
     "metadata": {},
     "output_type": "display_data"
    },
    {
     "data": {
      "image/png": "[encoded data removed]",
      "text/plain": [
       "<Figure size 800x400 with 1 Axes>"
      ]
     },
     "metadata": {},
     "output_type": "display_data"
    },
    {
     "data": {
      "image/png": "[encoded data removed]",
      "text/plain": [
       "<Figure size 800x400 with 1 Axes>"
      ]
     },
     "metadata": {},
     "output_type": "display_data"
    }
   ],
   "source": [
    "for i in float_dtype.columns:\n",
    "    plt.figure(figsize = (8,4))\n",
    "    sns.boxplot(x=df[i])\n",
    "    plt.title(i)\n",
    "    plt.show()"
   ]
  },
  {
   "cell_type": "markdown",
   "id": "37fe7a65-966f-4923-86c8-29c1fe307777",
   "metadata": {},
   "source": [
    "Model Preparation "
   ]
  },
  {
   "cell_type": "code",
   "execution_count": 42,
   "id": "3287d43d-6517-48ee-8e44-c55ccbff4047",
   "metadata": {},
   "outputs": [],
   "source": [
    "x = df.drop(['Close'], axis = 1).values\n",
    "y = df['Close'].values\n"
   ]
  },
  {
   "cell_type": "code",
   "execution_count": 43,
   "id": "d5be54b8-1109-46af-a7b3-e763762badb1",
   "metadata": {},
   "outputs": [],
   "source": [
    "from sklearn.model_selection import train_test_split\n",
    "x_train, x_test, y_train, y_test = train_test_split(x,y, test_size = 0.3)"
   ]
  },
  {
   "cell_type": "markdown",
   "id": "d45f01f2-db49-426f-80fd-88f25760113b",
   "metadata": {},
   "source": [
    "Scaling"
   ]
  },
  {
   "cell_type": "code",
   "execution_count": 44,
   "id": "4e658cfa-9c24-45a7-ba53-894e9531417c",
   "metadata": {},
   "outputs": [],
   "source": [
    "from sklearn.preprocessing import StandardScaler\n",
    "scaler = StandardScaler()\n"
   ]
  },
  {
   "cell_type": "code",
   "execution_count": 45,
   "id": "f33e61d0-cf22-4f5e-879f-5e9cf2c08113",
   "metadata": {},
   "outputs": [],
   "source": [
    "x_train = scaler.fit_transform(x_train)\n",
    "x_test = scaler.transform(x_test)"
   ]
  },
  {
   "cell_type": "markdown",
   "id": "92d3bd08-2648-4dc3-80e4-026b48a7e15e",
   "metadata": {},
   "source": [
    "Linear Regression"
   ]
  },
  {
   "cell_type": "code",
   "execution_count": 47,
   "id": "0ef08ba3-9819-4561-be90-9f35ed661fbd",
   "metadata": {},
   "outputs": [
    {
     "data": {
      "text/html": [
       "<style>#sk-container-id-2 {\n",
       "  /* Definition of color scheme common for light and dark mode */\n",
       "  --sklearn-color-text: black;\n",
       "  --sklearn-color-line: gray;\n",
       "  /* Definition of color scheme for unfitted estimators */\n",
       "  --sklearn-color-unfitted-level-0: #fff5e6;\n",
       "  --sklearn-color-unfitted-level-1: #f6e4d2;\n",
       "  --sklearn-color-unfitted-level-2: #ffe0b3;\n",
       "  --sklearn-color-unfitted-level-3: chocolate;\n",
       "  /* Definition of color scheme for fitted estimators */\n",
       "  --sklearn-color-fitted-level-0: #f0f8ff;\n",
       "  --sklearn-color-fitted-level-1: #d4ebff;\n",
       "  --sklearn-color-fitted-level-2: #b3dbfd;\n",
       "  --sklearn-color-fitted-level-3: cornflowerblue;\n",
       "\n",
       "  /* Specific color for light theme */\n",
       "  --sklearn-color-text-on-default-background: var(--sg-text-color, var(--theme-code-foreground, var(--jp-content-font-color1, black)));\n",
       "  --sklearn-color-background: var(--sg-background-color, var(--theme-background, var(--jp-layout-color0, white)));\n",
       "  --sklearn-color-border-box: var(--sg-text-color, var(--theme-code-foreground, var(--jp-content-font-color1, black)));\n",
       "  --sklearn-color-icon: #696969;\n",
       "\n",
       "  @media (prefers-color-scheme: dark) {\n",
       "    /* Redefinition of color scheme for dark theme */\n",
       "    --sklearn-color-text-on-default-background: var(--sg-text-color, var(--theme-code-foreground, var(--jp-content-font-color1, white)));\n",
       "    --sklearn-color-background: var(--sg-background-color, var(--theme-background, var(--jp-layout-color0, #111)));\n",
       "    --sklearn-color-border-box: var(--sg-text-color, var(--theme-code-foreground, var(--jp-content-font-color1, white)));\n",
       "    --sklearn-color-icon: #878787;\n",
       "  }\n",
       "}\n",
       "\n",
       "#sk-container-id-2 {\n",
       "  color: var(--sklearn-color-text);\n",
       "}\n",
       "\n",
       "#sk-container-id-2 pre {\n",
       "  padding: 0;\n",
       "}\n",
       "\n",
       "#sk-container-id-2 input.sk-hidden--visually {\n",
       "  border: 0;\n",
       "  clip: rect(1px 1px 1px 1px);\n",
       "  clip: rect(1px, 1px, 1px, 1px);\n",
       "  height: 1px;\n",
       "  margin: -1px;\n",
       "  overflow: hidden;\n",
       "  padding: 0;\n",
       "  position: absolute;\n",
       "  width: 1px;\n",
       "}\n",
       "\n",
       "#sk-container-id-2 div.sk-dashed-wrapped {\n",
       "  border: 1px dashed var(--sklearn-color-line);\n",
       "  margin: 0 0.4em 0.5em 0.4em;\n",
       "  box-sizing: border-box;\n",
       "  padding-bottom: 0.4em;\n",
       "  background-color: var(--sklearn-color-background);\n",
       "}\n",
       "\n",
       "#sk-container-id-2 div.sk-container {\n",
       "  /* jupyter's `normalize.less` sets `[hidden] { display: none; }`\n",
       "     but bootstrap.min.css set `[hidden] { display: none !important; }`\n",
       "     so we also need the `!important` here to be able to override the\n",
       "     default hidden behavior on the sphinx rendered scikit-learn.org.\n",
       "     See: https://github.com/scikit-learn/scikit-learn/issues/21755 */\n",
       "  display: inline-block !important;\n",
       "  position: relative;\n",
       "}\n",
       "\n",
       "#sk-container-id-2 div.sk-text-repr-fallback {\n",
       "  display: none;\n",
       "}\n",
       "\n",
       "div.sk-parallel-item,\n",
       "div.sk-serial,\n",
       "div.sk-item {\n",
       "  /* draw centered vertical line to link estimators */\n",
       "  background-image: linear-gradient(var(--sklearn-color-text-on-default-background), var(--sklearn-color-text-on-default-background));\n",
       "  background-size: 2px 100%;\n",
       "  background-repeat: no-repeat;\n",
       "  background-position: center center;\n",
       "}\n",
       "\n",
       "/* Parallel-specific style estimator block */\n",
       "\n",
       "#sk-container-id-2 div.sk-parallel-item::after {\n",
       "  content: \"\";\n",
       "  width: 100%;\n",
       "  border-bottom: 2px solid var(--sklearn-color-text-on-default-background);\n",
       "  flex-grow: 1;\n",
       "}\n",
       "\n",
       "#sk-container-id-2 div.sk-parallel {\n",
       "  display: flex;\n",
       "  align-items: stretch;\n",
       "  justify-content: center;\n",
       "  background-color: var(--sklearn-color-background);\n",
       "  position: relative;\n",
       "}\n",
       "\n",
       "#sk-container-id-2 div.sk-parallel-item {\n",
       "  display: flex;\n",
       "  flex-direction: column;\n",
       "}\n",
       "\n",
       "#sk-container-id-2 div.sk-parallel-item:first-child::after {\n",
       "  align-self: flex-end;\n",
       "  width: 50%;\n",
       "}\n",
       "\n",
       "#sk-container-id-2 div.sk-parallel-item:last-child::after {\n",
       "  align-self: flex-start;\n",
       "  width: 50%;\n",
       "}\n",
       "\n",
       "#sk-container-id-2 div.sk-parallel-item:only-child::after {\n",
       "  width: 0;\n",
       "}\n",
       "\n",
       "/* Serial-specific style estimator block */\n",
       "\n",
       "#sk-container-id-2 div.sk-serial {\n",
       "  display: flex;\n",
       "  flex-direction: column;\n",
       "  align-items: center;\n",
       "  background-color: var(--sklearn-color-background);\n",
       "  padding-right: 1em;\n",
       "  padding-left: 1em;\n",
       "}\n",
       "\n",
       "\n",
       "/* Toggleable style: style used for estimator/Pipeline/ColumnTransformer box that is\n",
       "clickable and can be expanded/collapsed.\n",
       "- Pipeline and ColumnTransformer use this feature and define the default style\n",
       "- Estimators will overwrite some part of the style using the `sk-estimator` class\n",
       "*/\n",
       "\n",
       "/* Pipeline and ColumnTransformer style (default) */\n",
       "\n",
       "#sk-container-id-2 div.sk-toggleable {\n",
       "  /* Default theme specific background. It is overwritten whether we have a\n",
       "  specific estimator or a Pipeline/ColumnTransformer */\n",
       "  background-color: var(--sklearn-color-background);\n",
       "}\n",
       "\n",
       "/* Toggleable label */\n",
       "#sk-container-id-2 label.sk-toggleable__label {\n",
       "  cursor: pointer;\n",
       "  display: block;\n",
       "  width: 100%;\n",
       "  margin-bottom: 0;\n",
       "  padding: 0.5em;\n",
       "  box-sizing: border-box;\n",
       "  text-align: center;\n",
       "}\n",
       "\n",
       "#sk-container-id-2 label.sk-toggleable__label-arrow:before {\n",
       "  /* Arrow on the left of the label */\n",
       "  content: \"▸\";\n",
       "  float: left;\n",
       "  margin-right: 0.25em;\n",
       "  color: var(--sklearn-color-icon);\n",
       "}\n",
       "\n",
       "#sk-container-id-2 label.sk-toggleable__label-arrow:hover:before {\n",
       "  color: var(--sklearn-color-text);\n",
       "}\n",
       "\n",
       "/* Toggleable content - dropdown */\n",
       "\n",
       "#sk-container-id-2 div.sk-toggleable__content {\n",
       "  max-height: 0;\n",
       "  max-width: 0;\n",
       "  overflow: hidden;\n",
       "  text-align: left;\n",
       "  /* unfitted */\n",
       "  background-color: var(--sklearn-color-unfitted-level-0);\n",
       "}\n",
       "\n",
       "#sk-container-id-2 div.sk-toggleable__content.fitted {\n",
       "  /* fitted */\n",
       "  background-color: var(--sklearn-color-fitted-level-0);\n",
       "}\n",
       "\n",
       "#sk-container-id-2 div.sk-toggleable__content pre {\n",
       "  margin: 0.2em;\n",
       "  border-radius: 0.25em;\n",
       "  color: var(--sklearn-color-text);\n",
       "  /* unfitted */\n",
       "  background-color: var(--sklearn-color-unfitted-level-0);\n",
       "}\n",
       "\n",
       "#sk-container-id-2 div.sk-toggleable__content.fitted pre {\n",
       "  /* unfitted */\n",
       "  background-color: var(--sklearn-color-fitted-level-0);\n",
       "}\n",
       "\n",
       "#sk-container-id-2 input.sk-toggleable__control:checked~div.sk-toggleable__content {\n",
       "  /* Expand drop-down */\n",
       "  max-height: 200px;\n",
       "  max-width: 100%;\n",
       "  overflow: auto;\n",
       "}\n",
       "\n",
       "#sk-container-id-2 input.sk-toggleable__control:checked~label.sk-toggleable__label-arrow:before {\n",
       "  content: \"▾\";\n",
       "}\n",
       "\n",
       "/* Pipeline/ColumnTransformer-specific style */\n",
       "\n",
       "#sk-container-id-2 div.sk-label input.sk-toggleable__control:checked~label.sk-toggleable__label {\n",
       "  color: var(--sklearn-color-text);\n",
       "  background-color: var(--sklearn-color-unfitted-level-2);\n",
       "}\n",
       "\n",
       "#sk-container-id-2 div.sk-label.fitted input.sk-toggleable__control:checked~label.sk-toggleable__label {\n",
       "  background-color: var(--sklearn-color-fitted-level-2);\n",
       "}\n",
       "\n",
       "/* Estimator-specific style */\n",
       "\n",
       "/* Colorize estimator box */\n",
       "#sk-container-id-2 div.sk-estimator input.sk-toggleable__control:checked~label.sk-toggleable__label {\n",
       "  /* unfitted */\n",
       "  background-color: var(--sklearn-color-unfitted-level-2);\n",
       "}\n",
       "\n",
       "#sk-container-id-2 div.sk-estimator.fitted input.sk-toggleable__control:checked~label.sk-toggleable__label {\n",
       "  /* fitted */\n",
       "  background-color: var(--sklearn-color-fitted-level-2);\n",
       "}\n",
       "\n",
       "#sk-container-id-2 div.sk-label label.sk-toggleable__label,\n",
       "#sk-container-id-2 div.sk-label label {\n",
       "  /* The background is the default theme color */\n",
       "  color: var(--sklearn-color-text-on-default-background);\n",
       "}\n",
       "\n",
       "/* On hover, darken the color of the background */\n",
       "#sk-container-id-2 div.sk-label:hover label.sk-toggleable__label {\n",
       "  color: var(--sklearn-color-text);\n",
       "  background-color: var(--sklearn-color-unfitted-level-2);\n",
       "}\n",
       "\n",
       "/* Label box, darken color on hover, fitted */\n",
       "#sk-container-id-2 div.sk-label.fitted:hover label.sk-toggleable__label.fitted {\n",
       "  color: var(--sklearn-color-text);\n",
       "  background-color: var(--sklearn-color-fitted-level-2);\n",
       "}\n",
       "\n",
       "/* Estimator label */\n",
       "\n",
       "#sk-container-id-2 div.sk-label label {\n",
       "  font-family: monospace;\n",
       "  font-weight: bold;\n",
       "  display: inline-block;\n",
       "  line-height: 1.2em;\n",
       "}\n",
       "\n",
       "#sk-container-id-2 div.sk-label-container {\n",
       "  text-align: center;\n",
       "}\n",
       "\n",
       "/* Estimator-specific */\n",
       "#sk-container-id-2 div.sk-estimator {\n",
       "  font-family: monospace;\n",
       "  border: 1px dotted var(--sklearn-color-border-box);\n",
       "  border-radius: 0.25em;\n",
       "  box-sizing: border-box;\n",
       "  margin-bottom: 0.5em;\n",
       "  /* unfitted */\n",
       "  background-color: var(--sklearn-color-unfitted-level-0);\n",
       "}\n",
       "\n",
       "#sk-container-id-2 div.sk-estimator.fitted {\n",
       "  /* fitted */\n",
       "  background-color: var(--sklearn-color-fitted-level-0);\n",
       "}\n",
       "\n",
       "/* on hover */\n",
       "#sk-container-id-2 div.sk-estimator:hover {\n",
       "  /* unfitted */\n",
       "  background-color: var(--sklearn-color-unfitted-level-2);\n",
       "}\n",
       "\n",
       "#sk-container-id-2 div.sk-estimator.fitted:hover {\n",
       "  /* fitted */\n",
       "  background-color: var(--sklearn-color-fitted-level-2);\n",
       "}\n",
       "\n",
       "/* Specification for estimator info (e.g. \"i\" and \"?\") */\n",
       "\n",
       "/* Common style for \"i\" and \"?\" */\n",
       "\n",
       ".sk-estimator-doc-link,\n",
       "a:link.sk-estimator-doc-link,\n",
       "a:visited.sk-estimator-doc-link {\n",
       "  float: right;\n",
       "  font-size: smaller;\n",
       "  line-height: 1em;\n",
       "  font-family: monospace;\n",
       "  background-color: var(--sklearn-color-background);\n",
       "  border-radius: 1em;\n",
       "  height: 1em;\n",
       "  width: 1em;\n",
       "  text-decoration: none !important;\n",
       "  margin-left: 1ex;\n",
       "  /* unfitted */\n",
       "  border: var(--sklearn-color-unfitted-level-1) 1pt solid;\n",
       "  color: var(--sklearn-color-unfitted-level-1);\n",
       "}\n",
       "\n",
       ".sk-estimator-doc-link.fitted,\n",
       "a:link.sk-estimator-doc-link.fitted,\n",
       "a:visited.sk-estimator-doc-link.fitted {\n",
       "  /* fitted */\n",
       "  border: var(--sklearn-color-fitted-level-1) 1pt solid;\n",
       "  color: var(--sklearn-color-fitted-level-1);\n",
       "}\n",
       "\n",
       "/* On hover */\n",
       "div.sk-estimator:hover .sk-estimator-doc-link:hover,\n",
       ".sk-estimator-doc-link:hover,\n",
       "div.sk-label-container:hover .sk-estimator-doc-link:hover,\n",
       ".sk-estimator-doc-link:hover {\n",
       "  /* unfitted */\n",
       "  background-color: var(--sklearn-color-unfitted-level-3);\n",
       "  color: var(--sklearn-color-background);\n",
       "  text-decoration: none;\n",
       "}\n",
       "\n",
       "div.sk-estimator.fitted:hover .sk-estimator-doc-link.fitted:hover,\n",
       ".sk-estimator-doc-link.fitted:hover,\n",
       "div.sk-label-container:hover .sk-estimator-doc-link.fitted:hover,\n",
       ".sk-estimator-doc-link.fitted:hover {\n",
       "  /* fitted */\n",
       "  background-color: var(--sklearn-color-fitted-level-3);\n",
       "  color: var(--sklearn-color-background);\n",
       "  text-decoration: none;\n",
       "}\n",
       "\n",
       "/* Span, style for the box shown on hovering the info icon */\n",
       ".sk-estimator-doc-link span {\n",
       "  display: none;\n",
       "  z-index: 9999;\n",
       "  position: relative;\n",
       "  font-weight: normal;\n",
       "  right: .2ex;\n",
       "  padding: .5ex;\n",
       "  margin: .5ex;\n",
       "  width: min-content;\n",
       "  min-width: 20ex;\n",
       "  max-width: 50ex;\n",
       "  color: var(--sklearn-color-text);\n",
       "  box-shadow: 2pt 2pt 4pt #999;\n",
       "  /* unfitted */\n",
       "  background: var(--sklearn-color-unfitted-level-0);\n",
       "  border: .5pt solid var(--sklearn-color-unfitted-level-3);\n",
       "}\n",
       "\n",
       ".sk-estimator-doc-link.fitted span {\n",
       "  /* fitted */\n",
       "  background: var(--sklearn-color-fitted-level-0);\n",
       "  border: var(--sklearn-color-fitted-level-3);\n",
       "}\n",
       "\n",
       ".sk-estimator-doc-link:hover span {\n",
       "  display: block;\n",
       "}\n",
       "\n",
       "/* \"?\"-specific style due to the `<a>` HTML tag */\n",
       "\n",
       "#sk-container-id-2 a.estimator_doc_link {\n",
       "  float: right;\n",
       "  font-size: 1rem;\n",
       "  line-height: 1em;\n",
       "  font-family: monospace;\n",
       "  background-color: var(--sklearn-color-background);\n",
       "  border-radius: 1rem;\n",
       "  height: 1rem;\n",
       "  width: 1rem;\n",
       "  text-decoration: none;\n",
       "  /* unfitted */\n",
       "  color: var(--sklearn-color-unfitted-level-1);\n",
       "  border: var(--sklearn-color-unfitted-level-1) 1pt solid;\n",
       "}\n",
       "\n",
       "#sk-container-id-2 a.estimator_doc_link.fitted {\n",
       "  /* fitted */\n",
       "  border: var(--sklearn-color-fitted-level-1) 1pt solid;\n",
       "  color: var(--sklearn-color-fitted-level-1);\n",
       "}\n",
       "\n",
       "/* On hover */\n",
       "#sk-container-id-2 a.estimator_doc_link:hover {\n",
       "  /* unfitted */\n",
       "  background-color: var(--sklearn-color-unfitted-level-3);\n",
       "  color: var(--sklearn-color-background);\n",
       "  text-decoration: none;\n",
       "}\n",
       "\n",
       "#sk-container-id-2 a.estimator_doc_link.fitted:hover {\n",
       "  /* fitted */\n",
       "  background-color: var(--sklearn-color-fitted-level-3);\n",
       "}\n",
       "</style><div id=\"sk-container-id-2\" class=\"sk-top-container\"><div class=\"sk-text-repr-fallback\"><pre>LinearRegression()</pre><b>In a Jupyter environment, please rerun this cell to show the HTML representation or trust the notebook. <br />On GitHub, the HTML representation is unable to render, please try loading this page with nbviewer.org.</b></div><div class=\"sk-container\" hidden><div class=\"sk-item\"><div class=\"sk-estimator fitted sk-toggleable\"><input class=\"sk-toggleable__control sk-hidden--visually\" id=\"sk-estimator-id-2\" type=\"checkbox\" checked><label for=\"sk-estimator-id-2\" class=\"sk-toggleable__label fitted sk-toggleable__label-arrow fitted\">&nbsp;&nbsp;LinearRegression<a class=\"sk-estimator-doc-link fitted\" rel=\"noreferrer\" target=\"_blank\" href=\"https://scikit-learn.org/1.4/modules/generated/sklearn.linear_model.LinearRegression.html\">?<span>Documentation for LinearRegression</span></a><span class=\"sk-estimator-doc-link fitted\">i<span>Fitted</span></span></label><div class=\"sk-toggleable__content fitted\"><pre>LinearRegression()</pre></div> </div></div></div></div>"
      ],
      "text/plain": [
       "LinearRegression()"
      ]
     },
     "execution_count": 47,
     "metadata": {},
     "output_type": "execute_result"
    }
   ],
   "source": [
    "from sklearn.linear_model import LinearRegression\n",
    "lr = LinearRegression()\n",
    "lr.fit(x_train, y_train)"
   ]
  },
  {
   "cell_type": "code",
   "execution_count": 48,
   "id": "2488e6be-dfaf-4b2e-bfd9-7e796b465899",
   "metadata": {},
   "outputs": [
    {
     "data": {
      "text/plain": [
       "array([ 26.66270477,  69.32713422,  72.6953213 ,  25.40766747,\n",
       "        14.53343236,  15.0184252 ,  39.47485126,  63.35033651,\n",
       "        47.6400409 ,  25.82424591, 342.47298124, 165.54003301,\n",
       "       323.73162497,  33.88218474,  64.42210855,  13.71492378,\n",
       "       152.25710442,  93.95918919, 187.14667582,  52.92703535,\n",
       "       168.99889641, 185.61737696, 127.72252509, 301.58308856,\n",
       "        15.65635391, 106.04823351,  59.61685088,  33.89403534,\n",
       "        10.89042694, 176.3598204 ,  21.63964001, 294.84620912,\n",
       "       372.67503042,  38.92424442,  14.40352213,  50.3119586 ,\n",
       "        23.09534539,  63.05651032,  26.64026733,  43.84125295,\n",
       "       263.78997852,  13.53693314, 101.25793418, 292.17462937,\n",
       "        60.37951713, 108.25690801, 167.18506189, 242.70832897,\n",
       "        82.05608201,  52.06065266, 126.13210212, 370.16755234,\n",
       "        73.09165092,  12.35217992, 148.69407363,  75.82526235])"
      ]
     },
     "execution_count": 48,
     "metadata": {},
     "output_type": "execute_result"
    }
   ],
   "source": [
    "y_pred = lr.predict(x_test)\n",
    "y_pred"
   ]
  },
  {
   "cell_type": "code",
   "execution_count": 49,
   "id": "5e1f4991-80c9-4228-9fb8-9972609e1aa8",
   "metadata": {},
   "outputs": [
    {
     "data": {
      "text/plain": [
       "array([142.08,  64.76,  33.75,  54.5 ,  52.59,  33.51,  50.97,  26.85,\n",
       "       145.92,  13.71,  18.46,  49.42,  16.12,  22.45, 100.28, 314.35,\n",
       "        13.41,  67.83,  15.45,  51.29,  57.1 ,  74.02,  33.45, 194.3 ,\n",
       "        12.46,  60.95,  65.97,  28.14,  12.42, 145.23,  15.62,  25.6 ,\n",
       "        46.18,  43.48,  50.54, 361.96,  62.13, 172.5 , 351.15,  92.84,\n",
       "        69.14,  34.06,  61.02,  61.59,  73.76,  10.26,  62.38,  53.83,\n",
       "        57.57, 206.39,  88.14, 309.82, 362.05, 188.73, 253.52, 172.91,\n",
       "       250.85,  28.63,  12.24, 108.7 , 154.57,  12.99,  61.98,  49.81,\n",
       "        20.08, 188.05, 169.65,  14.67,  24.13,  85.71,  19.49,  29.68,\n",
       "        15.33, 108.38, 221.3 , 231.2 , 304.9 ,  62.22, 114.33,  73.74,\n",
       "        91.3 ,  70.07, 350.  , 306.8 ,  55.61,  50.57,  73.46,  12.26,\n",
       "        47.32,  40.99,  62.9 ,  97.49, 137.67, 111.7 ,  34.55,  25.32,\n",
       "        30.31,  30.16,  58.99,  60.07,  70.45,  26.83,  57.5 , 231.26,\n",
       "       346.2 ,  88.48, 275.05, 322.25,  39.2 ,  31.93, 151.82,  47.72,\n",
       "       315.05,  18.03, 354.45,  46.95,  17.84, 104.41, 234.28,  36.99,\n",
       "        15.03, 272.56, 165.74, 163.31,  59.5 , 149.38,  71.86,  54.49,\n",
       "       168.6 ])"
      ]
     },
     "execution_count": 49,
     "metadata": {},
     "output_type": "execute_result"
    }
   ],
   "source": [
    "y_train"
   ]
  },
  {
   "cell_type": "code",
   "execution_count": 50,
   "id": "5c3cd0d9-de2b-4ffc-940a-f48b77c22601",
   "metadata": {},
   "outputs": [
    {
     "data": {
      "text/plain": [
       "array([[ 0.3682367 ,  0.30039706,  0.44322346,  0.33456097,  1.27208952,\n",
       "         1.06925404],\n",
       "       [-0.10281056, -0.12159197, -0.39483019,  0.10741168,  0.15955021,\n",
       "        -1.43863271],\n",
       "       [-0.56121226, -0.62107335, -0.77163473, -1.02833477, -0.9529891 ,\n",
       "         1.06925404],\n",
       "       [-0.48639267, -0.51264225, -0.46783607, -0.3468869 ,  0.71581986,\n",
       "         0.06609934],\n",
       "       [-0.41283764, -0.47908486, -0.48813417, -0.3468869 , -1.50925875,\n",
       "         1.06925404],\n",
       "       [-0.75342483, -0.74482835, -0.71556262, -1.25548406, -0.39671944,\n",
       "        -0.93705536],\n",
       "       [-0.57280402, -0.59042556, -0.51157231, -0.57403619, -0.9529891 ,\n",
       "        -1.43863271],\n",
       "       [-0.78356342, -0.7888603 , -0.75941101,  1.69745671, -0.39671944,\n",
       "         0.56767669],\n",
       "       [ 0.35253513,  0.41280462,  0.38221701,  0.56171026,  0.71581986,\n",
       "        -0.93705536],\n",
       "       [-0.93436177, -0.95528944, -0.89622694, -1.70978264,  1.55022434,\n",
       "         0.06609934],\n",
       "       [-0.88683553, -0.91222736, -0.85361214, -1.48263335,  0.71581986,\n",
       "         0.56767669],\n",
       "       [-0.54034707, -0.57190111, -0.54409413, -1.02833477, -1.23112392,\n",
       "         0.56767669],\n",
       "       [-0.91318045, -0.93075181, -0.86931233, -1.48263335, -1.23112392,\n",
       "        -0.43547801],\n",
       "       [-0.70558244, -0.24234038, -0.97977437,  1.69745671, -0.9529891 ,\n",
       "         1.57083139],\n",
       "       [-0.17341496, -0.10801384, -0.10639529,  0.10741168, -0.67485427,\n",
       "        -1.43863271],\n",
       "       [ 2.66024518,  2.54893617,  2.31109736,  1.01600884,  0.99395469,\n",
       "         1.57083139],\n",
       "       [-0.93583709, -0.9607207 , -0.89757267, -1.70978264,  1.27208952,\n",
       "        -0.93705536],\n",
       "       [-0.38680885, -0.41061227, -0.34515031, -0.11973761, -0.11858462,\n",
       "         0.56767669],\n",
       "       [-0.97071777, -0.92551453, -0.93054307, -0.80118548, -0.67485427,\n",
       "        -0.43547801],\n",
       "       [-0.51800658, -0.53582207, -0.51818882, -0.3468869 , -1.23112392,\n",
       "        -0.93705536],\n",
       "       [-0.54256005, -0.51846145, -0.49475068, -0.57403619, -0.67485427,\n",
       "         0.06609934],\n",
       "       [-0.29249402, -0.29034879, -0.23872546,  0.10741168,  1.55022434,\n",
       "         1.57083139],\n",
       "       [-0.73951471, -0.75413907, -0.71679621, -0.80118548,  0.43768504,\n",
       "         1.06925404],\n",
       "       [ 0.85034883,  1.19645696,  0.98947789,  1.47030742, -1.50925875,\n",
       "        -0.93705536],\n",
       "       [-0.93952538, -0.95955686, -0.91585217, -1.70978264,  0.15955021,\n",
       "         0.56767669],\n",
       "       [-0.42801231, -0.48723174, -0.38686795,  0.33456097, -1.23112392,\n",
       "         1.06925404],\n",
       "       [-0.30724718, -0.37007184, -0.31004917, -0.11973761,  0.43768504,\n",
       "        -0.43547801],\n",
       "       [-0.76775647, -0.78905428, -0.78060626, -1.25548406, -0.9529891 ,\n",
       "         0.06609934],\n",
       "       [-0.93636399, -0.95945987, -0.90620777,  1.69745671,  0.99395469,\n",
       "         0.06609934],\n",
       "       [ 0.53579042,  0.40329992,  0.45746577,  0.56171026,  1.55022434,\n",
       "        -0.93705536],\n",
       "       [-0.88472793, -0.91688272, -0.89174117, -1.48263335, -0.11858462,\n",
       "         0.06609934],\n",
       "       [-0.78409032, -0.78546577, -0.75548596,  1.69745671, -0.11858462,\n",
       "        -1.43863271],\n",
       "       [-0.60863312, -0.60090013, -0.59321329, -1.25548406,  1.27208952,\n",
       "         0.06609934],\n",
       "       [-0.63603184, -0.63659122, -0.66520987, -1.25548406,  0.99395469,\n",
       "        -1.43863271],\n",
       "       [-0.54972587, -0.55648023, -0.70289033, -1.02833477, -1.50925875,\n",
       "        -0.93705536],\n",
       "       [ 2.01152774,  2.51256616,  2.21891482,  1.01600884,  0.15955021,\n",
       "         1.06925404],\n",
       "       [-0.41262688, -0.4358288 , -0.35389756, -0.3468869 ,  0.15955021,\n",
       "         0.56767669],\n",
       "       [ 0.55054358,  0.64072331,  0.64541946,  0.56171026, -1.50925875,\n",
       "         0.06609934],\n",
       "       [ 2.74876413,  2.4788148 ,  2.74139468,  1.01600884,  0.43768504,\n",
       "        -0.93705536],\n",
       "       [-0.13653206, -0.17396478, -0.05503325, -0.11973761,  1.55022434,\n",
       "         1.06925404],\n",
       "       [-0.38206676, -0.36987786, -0.32877726, -0.11973761, -1.23112392,\n",
       "        -0.43547801],\n",
       "       [-0.71928181, -0.7481259 , -0.72229127, -1.02833477, -0.67485427,\n",
       "        -0.93705536],\n",
       "       [-0.42316485, -0.43330715, -0.36354196, -0.3468869 , -0.67485427,\n",
       "         0.56767669],\n",
       "       [-0.28891111, -0.35484493, -0.36017763,  0.33456097, -1.50925875,\n",
       "        -0.43547801],\n",
       "       [-0.46531673, -0.35397205, -0.4131097 ,  0.10741168,  0.99395469,\n",
       "        -0.93705536],\n",
       "       [-0.94806113, -0.97410486, -0.93099164, -0.80118548, -1.23112392,\n",
       "         1.57083139],\n",
       "       [-0.4400256 , -0.48053966, -0.42746416, -0.3468869 , -0.11858462,\n",
       "        -0.43547801],\n",
       "       [-0.47901609, -0.51438801, -0.45213588, -0.57403619, -0.11858462,\n",
       "        -0.93705536],\n",
       "       [-0.47648698, -0.53203959, -0.47389186, -0.57403619, -0.39671944,\n",
       "         1.06925404],\n",
       "       [ 0.92358772,  0.93168334,  0.99093576,  0.78885955, -0.39671944,\n",
       "         1.57083139],\n",
       "       [-0.19712539, -0.17415875, -0.13588922,  0.33456097, -0.67485427,\n",
       "        -0.93705536],\n",
       "       [ 1.9858151 ,  1.92647568,  2.13839528,  1.01600884, -0.9529891 ,\n",
       "        -0.43547801],\n",
       "       [ 2.13756187,  2.48104549,  2.35931937,  1.24315813, -0.67485427,\n",
       "         1.57083139],\n",
       "       [ 0.73622261,  0.75167606,  0.81206575,  0.78885955, -0.67485427,\n",
       "         0.56767669],\n",
       "       [ 1.59390799,  1.47965806,  1.71449018,  0.78885955,  0.99395469,\n",
       "         1.06925404],\n",
       "       [ 0.38615125,  0.60309248,  0.50950069,  0.78885955, -0.9529891 ,\n",
       "        -0.93705536],\n",
       "       [ 1.80350822,  1.71727541,  1.55075964,  0.78885955,  0.71581986,\n",
       "         0.06609934],\n",
       "       [-0.75827229, -0.77916164, -0.74146793, -1.25548406, -1.23112392,\n",
       "         0.06609934],\n",
       "       [-0.91549881, -0.91746464, -0.91327286, -0.80118548, -1.50925875,\n",
       "         0.06609934],\n",
       "       [ 0.48257368,  0.39631688,  0.06540963,  1.47030742, -0.11858462,\n",
       "         1.06925404],\n",
       "       [ 0.42071579,  0.40795528,  0.46071796,  0.33456097,  1.55022434,\n",
       "        -1.43863271],\n",
       "       [-0.93741778, -0.95499848, -0.90295559, -1.70978264,  0.99395469,\n",
       "         1.06925404],\n",
       "       [-0.53023062, -0.46298507, -0.47232184, -0.3468869 , -0.9529891 ,\n",
       "        -0.93705536],\n",
       "       [-0.58755718, -0.57161015, -0.53736548, -1.25548406,  1.55022434,\n",
       "         1.06925404],\n",
       "       [-0.90580387, -0.89215112, -0.86235939, -1.48263335, -0.9529891 ,\n",
       "        -0.43547801],\n",
       "       [ 0.82031561,  1.50826913,  0.84873691,  1.24315813,  0.99395469,\n",
       "        -1.43863271],\n",
       "       [ 0.94677125,  1.14893349,  0.60650542,  1.24315813,  1.27208952,\n",
       "         0.06609934],\n",
       "       [-0.94574278, -0.95082805, -0.90508633,  1.69745671,  1.27208952,\n",
       "         1.57083139],\n",
       "       [-0.79536595, -0.80631791, -0.79866148, -1.02833477,  0.71581986,\n",
       "        -1.43863271],\n",
       "       [-0.08594981, -0.12401664, -0.10650744,  0.10741168, -0.9529891 ,\n",
       "         0.56767669],\n",
       "       [-0.85985833, -0.89360592, -0.83993055, -1.48263335, -0.67485427,\n",
       "         1.06925404],\n",
       "       [-0.80674696, -0.79390361, -0.78408273, -0.80118548, -0.11858462,\n",
       "        -1.43863271],\n",
       "       [-0.93235956, -0.92890907, -0.88972257, -1.48263335, -1.50925875,\n",
       "         1.57083139],\n",
       "       [ 0.13323997,  0.04493415,  0.09759502,  0.33456097, -0.11858462,\n",
       "         1.57083139],\n",
       "       [ 1.09851802,  1.06746468,  1.21365416,  0.78885955, -0.11858462,\n",
       "        -0.43547801],\n",
       "       [ 0.9994611 ,  1.20227616,  0.83808321,  1.47030742, -1.23112392,\n",
       "         0.56767669],\n",
       "       [ 2.303008  ,  2.06448772,  2.15521691,  1.24315813, -0.9529891 ,\n",
       "         0.06609934],\n",
       "       [-0.45056357, -0.42729397, -0.38025145, -0.57403619,  0.43768504,\n",
       "         1.57083139],\n",
       "       [ 0.05525899,  0.05579666,  0.11654739,  0.33456097,  0.43768504,\n",
       "         0.56767669],\n",
       "       [-0.29670921, -0.34592215, -0.31700211,  0.10741168,  1.27208952,\n",
       "         0.56767669],\n",
       "       [ 0.07844252, -0.02266556, -0.12523552,  1.47030742,  0.15955021,\n",
       "        -1.43863271],\n",
       "       [-0.30071364, -0.35726959, -0.2669858 , -0.11973761, -0.67485427,\n",
       "         1.57083139],\n",
       "       [ 2.62230849,  2.62167617,  2.83256792,  1.01600884,  0.71581986,\n",
       "         0.56767669],\n",
       "       [ 2.24821055,  2.10328239,  2.2774541 ,  1.01600884,  1.27208952,\n",
       "        -0.43547801],\n",
       "       [-0.41368067, -0.47501142, -0.47557402, -0.3468869 ,  0.43768504,\n",
       "        -1.43863271],\n",
       "       [-0.58566035, -0.56210546, -0.56158863, -0.80118548,  1.27208952,\n",
       "         1.57083139],\n",
       "       [-0.34939906, -0.34000597, -0.29961976, -0.11973761, -0.9529891 ,\n",
       "         0.06609934],\n",
       "       [-0.92066241, -0.92270192, -0.91585217, -1.02833477,  1.27208952,\n",
       "         1.06925404],\n",
       "       [-0.56015846, -0.59605079, -0.54185125, -0.57403619, -1.23112392,\n",
       "        -1.43863271],\n",
       "       [-0.7203356 , -0.69478323, -0.68315295, -0.80118548,  0.71581986,\n",
       "        -0.93705536],\n",
       "       [-0.5095762 , -0.46686454, -0.50260077, -0.3468869 ,  0.99395469,\n",
       "         1.06925404],\n",
       "       [-0.0122894 , -0.034013  ,  0.04802728,  0.10741168, -0.39671944,\n",
       "        -0.43547801],\n",
       "       [ 0.5083917 ,  0.43559649,  0.44658779,  0.78885955, -1.23112392,\n",
       "        -1.43863271],\n",
       "       [ 0.13113237,  0.13493779,  0.1599472 ,  0.33456097,  0.71581986,\n",
       "        -1.43863271],\n",
       "       [-0.66448436, -0.70060243, -0.66520987,  1.69745671, -1.23112392,\n",
       "         1.06925404],\n",
       "       [-0.83625327, -0.81921713, -0.80202581, -1.48263335,  1.27208952,\n",
       "        -0.43547801],\n",
       "       [-0.7919938 , -0.78507782, -0.74819659, -1.25548406, -0.67485427,\n",
       "         1.57083139],\n",
       "       [-0.78777861, -0.76403172, -0.73922505, -1.25548406, -1.50925875,\n",
       "        -1.43863271],\n",
       "       [-0.51221069, -0.5043014 , -0.44742583, -0.57403619,  0.15955021,\n",
       "         0.06609934],\n",
       "       [-0.43096295, -0.49712438, -0.43082848, -0.3468869 , -0.39671944,\n",
       "         1.57083139],\n",
       "       [-0.63392425, -0.35193533, -0.71623549,  1.47030742,  0.99395469,\n",
       "        -0.93705536],\n",
       "       [-0.81306974, -0.81427081, -0.76591537, -1.02833477,  0.43768504,\n",
       "         0.56767669],\n",
       "       [-0.55805086, -0.32972538, -0.53960836,  0.10741168,  0.71581986,\n",
       "         1.57083139],\n",
       "       [ 1.40411915,  1.28083537,  1.40553289,  0.78885955,  1.55022434,\n",
       "         0.06609934],\n",
       "       [ 2.74718343,  2.43885629,  2.61052239,  1.24315813, -0.39671944,\n",
       "        -0.93705536],\n",
       "       [-0.20671494, -0.22633758, -0.11996474, -0.11973761,  1.27208952,\n",
       "         0.06609934],\n",
       "       [ 1.39568878,  1.63289701,  1.52384503,  1.47030742, -0.9529891 ,\n",
       "         0.56767669],\n",
       "       [ 2.66446037,  2.45922349,  2.37445884,  1.24315813, -1.23112392,\n",
       "         0.06609934],\n",
       "       [-0.5822882 , -0.62495282, -0.63212733,  1.69745671, -1.50925875,\n",
       "        -0.43547801],\n",
       "       [-0.76354128, -0.77373038, -0.76356034, -0.80118548,  0.15955021,\n",
       "        -0.43547801],\n",
       "       [ 0.47214108,  0.41707203,  0.54740543,  0.56171026,  0.99395469,\n",
       "         0.06609934],\n",
       "       [-0.4758547 , -0.51535788, -0.51045087, -0.3468869 ,  1.55022434,\n",
       "         0.06609934],\n",
       "       [ 2.1607454 ,  1.99853678,  2.32960115,  1.01600884,  1.55022434,\n",
       "         0.56767669],\n",
       "       [-0.86786718, -0.88390725, -0.86482656, -1.48263335, -0.39671944,\n",
       "        -1.43863271],\n",
       "       [ 2.2324036 ,  2.45437416,  2.40473777,  1.24315813, -1.50925875,\n",
       "        -1.43863271],\n",
       "       [-0.33886109, -0.41158213, -0.58558749,  1.47030742,  1.55022434,\n",
       "         1.57083139],\n",
       "       [-0.90896527, -0.91494298, -0.865948  , -1.48263335,  0.43768504,\n",
       "        -0.93705536],\n",
       "       [-0.09438018, -0.05758076,  0.0031696 ,  0.10741168, -1.50925875,\n",
       "        -0.93705536],\n",
       "       [ 1.61066337,  1.45269576,  1.41506515,  0.78885955,  1.27208952,\n",
       "        -0.93705536],\n",
       "       [-0.68134511, -0.71709016, -0.7033389 , -1.25548406,  0.43768504,\n",
       "        -0.43547801],\n",
       "       [-0.94584816, -0.93472827, -0.91719791, -1.02833477,  1.55022434,\n",
       "        -1.43863271],\n",
       "       [ 1.4947457 ,  1.5717954 ,  1.65707235,  0.78885955,  0.43768504,\n",
       "        -1.43863271],\n",
       "       [ 0.70439794,  0.60755386,  0.7124817 ,  0.56171026,  0.15955021,\n",
       "        -0.43547801],\n",
       "       [ 0.76551817,  0.66981931,  0.71640675,  0.56171026, -0.9529891 ,\n",
       "         1.57083139],\n",
       "       [-0.13653206, -0.19918131, -0.44596795,  1.47030742,  0.43768504,\n",
       "         0.06609934],\n",
       "       [ 0.45148666,  0.35849208,  0.37604908,  0.78885955, -1.50925875,\n",
       "         0.56767669],\n",
       "       [-0.32937691, -0.35823946, -0.27707878, -0.57403619,  0.99395469,\n",
       "         0.56767669],\n",
       "       [-0.42105725, -0.47753307, -0.45841596, -0.3468869 ,  1.27208952,\n",
       "        -0.93705536],\n",
       "       [ 0.7887017 ,  0.64460277,  0.73995703,  0.56171026, -0.11858462,\n",
       "        -1.43863271]])"
      ]
     },
     "execution_count": 50,
     "metadata": {},
     "output_type": "execute_result"
    }
   ],
   "source": [
    "x_train"
   ]
  },
  {
   "cell_type": "markdown",
   "id": "bea5c6ac-4e10-492d-a841-41fcb6643258",
   "metadata": {},
   "source": [
    "Checking accuracy"
   ]
  },
  {
   "cell_type": "code",
   "execution_count": 51,
   "id": "8ae657c3-aec5-437e-9b86-f3ae610faeb1",
   "metadata": {},
   "outputs": [
    {
     "name": "stdout",
     "output_type": "stream",
     "text": [
      "Trainig Score:  99.45460265605342 %\n",
      "Testing Score:  99.61402621958177 %\n"
     ]
    }
   ],
   "source": [
    "print(\"Trainig Score: \",(lr.score(x_train, y_train))*100,\"%\")\n",
    "print(\"Testing Score: \",(lr.score(x_test, y_test))*100,\"%\")"
   ]
  },
  {
   "cell_type": "markdown",
   "id": "17313936-fcd2-410f-9fb6-40f3e96ad578",
   "metadata": {},
   "source": [
    "Scatter Plot"
   ]
  },
  {
   "cell_type": "code",
   "execution_count": 52,
   "id": "91143544-eb09-4a4f-8338-da726f78861f",
   "metadata": {},
   "outputs": [
    {
     "data": {
      "image/png": "[encoded data removed]",
      "text/plain": [
       "<Figure size 1200x400 with 1 Axes>"
      ]
     },
     "metadata": {},
     "output_type": "display_data"
    }
   ],
   "source": [
    "plt.figure(figsize=(12,4))\n",
    "sns.scatterplot(y_pred, color='b')\n",
    "sns.scatterplot(y_test,color='r')\n",
    "plt.title('Actual vs Pedicted')\n",
    "plt.xlabel('Actual')\n",
    "plt.ylabel('predicted')\n",
    "plt.show()"
   ]
  },
  {
   "cell_type": "code",
   "execution_count": 53,
   "id": "9fa41e7f-93d4-42fe-828d-fe2f2243c0a9",
   "metadata": {},
   "outputs": [
    {
     "data": {
      "text/html": [
       "<div>\n",
       "<style scoped>\n",
       "    .dataframe tbody tr th:only-of-type {\n",
       "        vertical-align: middle;\n",
       "    }\n",
       "\n",
       "    .dataframe tbody tr th {\n",
       "        vertical-align: top;\n",
       "    }\n",
       "\n",
       "    .dataframe thead th {\n",
       "        text-align: right;\n",
       "    }\n",
       "</style>\n",
       "<table border=\"1\" class=\"dataframe\">\n",
       "  <thead>\n",
       "    <tr style=\"text-align: right;\">\n",
       "      <th></th>\n",
       "      <th>Actual Value</th>\n",
       "      <th>Predicted Value</th>\n",
       "      <th>Difference</th>\n",
       "    </tr>\n",
       "  </thead>\n",
       "  <tbody>\n",
       "    <tr>\n",
       "      <th>19</th>\n",
       "      <td>49.84</td>\n",
       "      <td>52</td>\n",
       "      <td>-3.087035</td>\n",
       "    </tr>\n",
       "    <tr>\n",
       "      <th>23</th>\n",
       "      <td>292.37</td>\n",
       "      <td>301</td>\n",
       "      <td>-9.213089</td>\n",
       "    </tr>\n",
       "    <tr>\n",
       "      <th>26</th>\n",
       "      <td>65.99</td>\n",
       "      <td>59</td>\n",
       "      <td>6.373149</td>\n",
       "    </tr>\n",
       "    <tr>\n",
       "      <th>5</th>\n",
       "      <td>14.37</td>\n",
       "      <td>15</td>\n",
       "      <td>-0.648425</td>\n",
       "    </tr>\n",
       "    <tr>\n",
       "      <th>47</th>\n",
       "      <td>243.44</td>\n",
       "      <td>242</td>\n",
       "      <td>0.731671</td>\n",
       "    </tr>\n",
       "    <tr>\n",
       "      <th>0</th>\n",
       "      <td>26.97</td>\n",
       "      <td>26</td>\n",
       "      <td>0.307295</td>\n",
       "    </tr>\n",
       "    <tr>\n",
       "      <th>14</th>\n",
       "      <td>68.30</td>\n",
       "      <td>64</td>\n",
       "      <td>3.877891</td>\n",
       "    </tr>\n",
       "    <tr>\n",
       "      <th>33</th>\n",
       "      <td>41.36</td>\n",
       "      <td>38</td>\n",
       "      <td>2.435756</td>\n",
       "    </tr>\n",
       "    <tr>\n",
       "      <th>31</th>\n",
       "      <td>290.56</td>\n",
       "      <td>294</td>\n",
       "      <td>-4.286209</td>\n",
       "    </tr>\n",
       "    <tr>\n",
       "      <th>46</th>\n",
       "      <td>167.96</td>\n",
       "      <td>167</td>\n",
       "      <td>0.774938</td>\n",
       "    </tr>\n",
       "  </tbody>\n",
       "</table>\n",
       "</div>"
      ],
      "text/plain": [
       "    Actual Value  Predicted Value  Difference\n",
       "19         49.84               52   -3.087035\n",
       "23        292.37              301   -9.213089\n",
       "26         65.99               59    6.373149\n",
       "5          14.37               15   -0.648425\n",
       "47        243.44              242    0.731671\n",
       "0          26.97               26    0.307295\n",
       "14         68.30               64    3.877891\n",
       "33         41.36               38    2.435756\n",
       "31        290.56              294   -4.286209\n",
       "46        167.96              167    0.774938"
      ]
     },
     "execution_count": 53,
     "metadata": {},
     "output_type": "execute_result"
    }
   ],
   "source": [
    "predicted_value = pd.DataFrame({'Actual Value': y_test, 'Predicted Value': y_pred.astype(int), 'Difference': y_test - y_pred})\n",
    "predicted_value.sample(10)"
   ]
  },
  {
   "cell_type": "markdown",
   "id": "4d1bc39b-4c59-4e1d-9cfa-abdf868012da",
   "metadata": {},
   "source": [
    "Evaluation Matrics"
   ]
  },
  {
   "cell_type": "code",
   "execution_count": 54,
   "id": "c9cf428f-84e4-48db-b18c-c670e6767e7e",
   "metadata": {},
   "outputs": [
    {
     "name": "stdout",
     "output_type": "stream",
     "text": [
      "MAE : 4.014530905217206\n",
      "MSE : 39.255523804241015\n",
      "RMSE : 6.265422875133091\n",
      "R2 Linear regression : 99.61402621958177\n"
     ]
    }
   ],
   "source": [
    "from sklearn.metrics import mean_squared_error\n",
    "from sklearn.metrics import mean_absolute_error\n",
    "from sklearn.metrics import r2_score\n",
    "\n",
    "MAE = mean_absolute_error(y_test,y_pred)\n",
    "print(\"MAE :\",MAE)\n",
    "\n",
    "MSE = mean_squared_error(y_test, y_pred)\n",
    "print(\"MSE :\",MSE)\n",
    "\n",
    "RMSE = np.sqrt(MSE)\n",
    "print(\"RMSE :\", RMSE)\n",
    "\n",
    "r2 = r2_score(y_test, y_pred)\n",
    "print(\"R2 Linear regression :\" ,r2*100)"
   ]
  },
  {
   "cell_type": "markdown",
   "id": "b982cb1b-13a4-4a97-8d7e-5c47de2302f8",
   "metadata": {},
   "source": [
    "Random Forest "
   ]
  },
  {
   "cell_type": "code",
   "execution_count": 55,
   "id": "61602431-a62e-4551-a534-d5f8053bcc89",
   "metadata": {},
   "outputs": [
    {
     "name": "stdout",
     "output_type": "stream",
     "text": [
      "MSE : 262.03164916346253\n",
      "RMSE : 16.18739167264024\n",
      "R2 for Random Forest : 97.4236149103195\n"
     ]
    }
   ],
   "source": [
    "from sklearn.ensemble import RandomForestRegressor\n",
    "\n",
    "random_forest = RandomForestRegressor(n_estimators = 20, max_depth=8)\n",
    "random_forest.fit(x_train,y_train)\n",
    "rf_pred = random_forest.predict(x_test)\n",
    "\n",
    "MSE = mean_squared_error(y_test, rf_pred)\n",
    "print(\"MSE :\", MSE)\n",
    "\n",
    "RMSE = np.sqrt(MSE)\n",
    "print(\"RMSE :\", RMSE)\n",
    "\n",
    "r2 = r2_score(y_test, rf_pred)\n",
    "print(\"R2 for Random Forest :\", r2*100)"
   ]
  },
  {
   "cell_type": "code",
   "execution_count": 56,
   "id": "4ea38a5c-b424-44b2-9a3e-cbe8309eb363",
   "metadata": {},
   "outputs": [
    {
     "name": "stdout",
     "output_type": "stream",
     "text": [
      "Trainig Score:  99.77135923558757 %\n",
      "Testing Score:  97.4236149103195 %\n"
     ]
    }
   ],
   "source": [
    "print(\"Trainig Score: \",(random_forest.score(x_train, y_train))*100,\"%\")\n",
    "print(\"Testing Score: \",(random_forest.score(x_test, y_test))*100,\"%\")"
   ]
  },
  {
   "cell_type": "code",
   "execution_count": 57,
   "id": "9616e690-9604-458d-9dbf-417ebee05f7e",
   "metadata": {},
   "outputs": [
    {
     "data": {
      "text/html": [
       "<div>\n",
       "<style scoped>\n",
       "    .dataframe tbody tr th:only-of-type {\n",
       "        vertical-align: middle;\n",
       "    }\n",
       "\n",
       "    .dataframe tbody tr th {\n",
       "        vertical-align: top;\n",
       "    }\n",
       "\n",
       "    .dataframe thead th {\n",
       "        text-align: right;\n",
       "    }\n",
       "</style>\n",
       "<table border=\"1\" class=\"dataframe\">\n",
       "  <thead>\n",
       "    <tr style=\"text-align: right;\">\n",
       "      <th></th>\n",
       "      <th>Actual Value</th>\n",
       "      <th>Predicted Value</th>\n",
       "      <th>Difference</th>\n",
       "    </tr>\n",
       "  </thead>\n",
       "  <tbody>\n",
       "    <tr>\n",
       "      <th>21</th>\n",
       "      <td>168.00</td>\n",
       "      <td>239.451500</td>\n",
       "      <td>-71.451500</td>\n",
       "    </tr>\n",
       "    <tr>\n",
       "      <th>54</th>\n",
       "      <td>147.95</td>\n",
       "      <td>159.552500</td>\n",
       "      <td>-11.602500</td>\n",
       "    </tr>\n",
       "    <tr>\n",
       "      <th>1</th>\n",
       "      <td>70.30</td>\n",
       "      <td>65.333279</td>\n",
       "      <td>4.966721</td>\n",
       "    </tr>\n",
       "    <tr>\n",
       "      <th>53</th>\n",
       "      <td>13.58</td>\n",
       "      <td>20.031000</td>\n",
       "      <td>-6.451000</td>\n",
       "    </tr>\n",
       "    <tr>\n",
       "      <th>35</th>\n",
       "      <td>41.45</td>\n",
       "      <td>57.151083</td>\n",
       "      <td>-15.701083</td>\n",
       "    </tr>\n",
       "    <tr>\n",
       "      <th>46</th>\n",
       "      <td>167.96</td>\n",
       "      <td>168.632000</td>\n",
       "      <td>-0.672000</td>\n",
       "    </tr>\n",
       "    <tr>\n",
       "      <th>30</th>\n",
       "      <td>22.78</td>\n",
       "      <td>18.211000</td>\n",
       "      <td>4.569000</td>\n",
       "    </tr>\n",
       "    <tr>\n",
       "      <th>40</th>\n",
       "      <td>279.10</td>\n",
       "      <td>276.349500</td>\n",
       "      <td>2.750500</td>\n",
       "    </tr>\n",
       "    <tr>\n",
       "      <th>4</th>\n",
       "      <td>13.42</td>\n",
       "      <td>14.228467</td>\n",
       "      <td>-0.808467</td>\n",
       "    </tr>\n",
       "    <tr>\n",
       "      <th>24</th>\n",
       "      <td>16.16</td>\n",
       "      <td>15.547950</td>\n",
       "      <td>0.612050</td>\n",
       "    </tr>\n",
       "  </tbody>\n",
       "</table>\n",
       "</div>"
      ],
      "text/plain": [
       "    Actual Value  Predicted Value  Difference\n",
       "21        168.00       239.451500  -71.451500\n",
       "54        147.95       159.552500  -11.602500\n",
       "1          70.30        65.333279    4.966721\n",
       "53         13.58        20.031000   -6.451000\n",
       "35         41.45        57.151083  -15.701083\n",
       "46        167.96       168.632000   -0.672000\n",
       "30         22.78        18.211000    4.569000\n",
       "40        279.10       276.349500    2.750500\n",
       "4          13.42        14.228467   -0.808467\n",
       "24         16.16        15.547950    0.612050"
      ]
     },
     "execution_count": 57,
     "metadata": {},
     "output_type": "execute_result"
    }
   ],
   "source": [
    "predicted_value = pd.DataFrame({'Actual Value': y_test, 'Predicted Value': rf_pred, 'Difference': y_test - rf_pred})\n",
    "predicted_value.sample(10)"
   ]
  },
  {
   "cell_type": "markdown",
   "id": "334b0003-aa0b-43f6-9bfe-85a4922ad6dd",
   "metadata": {},
   "source": [
    "Decision Tree "
   ]
  },
  {
   "cell_type": "code",
   "execution_count": 58,
   "id": "ed93f664-1f87-45e7-b583-c0381336dc04",
   "metadata": {},
   "outputs": [
    {
     "name": "stdout",
     "output_type": "stream",
     "text": [
      "MSE: 819.3366589285715\n",
      "RMSE : 28.62405734567641\n",
      "R2 for Decision Tree Regressor :  91.94400081733883\n"
     ]
    }
   ],
   "source": [
    "from sklearn.tree import DecisionTreeRegressor\n",
    "decision_tree = DecisionTreeRegressor(max_depth=14)\n",
    "\n",
    "decision_tree.fit(x_train, y_train)\n",
    " \n",
    "DT_pred = decision_tree.predict(x_test)\n",
    "DT_train = decision_tree.predict(x_train)\n",
    "\n",
    "MSE = mean_squared_error(y_test,DT_pred)\n",
    "print(\"MSE:\", MSE)\n",
    "\n",
    "RMSE = np.sqrt(MSE)\n",
    "print(\"RMSE :\" , RMSE)\n",
    "\n",
    "r2 = r2_score(y_test, DT_pred)\n",
    "print(\"R2 for Decision Tree Regressor : \", r2*100)\n"
   ]
  },
  {
   "cell_type": "code",
   "execution_count": 59,
   "id": "84af9356-e77a-4092-a638-f1c0cfe88a5d",
   "metadata": {},
   "outputs": [
    {
     "name": "stdout",
     "output_type": "stream",
     "text": [
      "Trainig Score:  100.0 %\n",
      "Testing Score:  91.94400081733883 %\n"
     ]
    }
   ],
   "source": [
    "print(\"Trainig Score: \",(decision_tree.score(x_train, y_train))*100,\"%\")\n",
    "print(\"Testing Score: \",(decision_tree.score(x_test, y_test))*100,\"%\")"
   ]
  },
  {
   "cell_type": "code",
   "execution_count": 60,
   "id": "ef2e6e83-d5d4-46db-8b21-cfcb8092ac12",
   "metadata": {},
   "outputs": [
    {
     "data": {
      "text/html": [
       "<div>\n",
       "<style scoped>\n",
       "    .dataframe tbody tr th:only-of-type {\n",
       "        vertical-align: middle;\n",
       "    }\n",
       "\n",
       "    .dataframe tbody tr th {\n",
       "        vertical-align: top;\n",
       "    }\n",
       "\n",
       "    .dataframe thead th {\n",
       "        text-align: right;\n",
       "    }\n",
       "</style>\n",
       "<table border=\"1\" class=\"dataframe\">\n",
       "  <thead>\n",
       "    <tr style=\"text-align: right;\">\n",
       "      <th></th>\n",
       "      <th>Actual Value</th>\n",
       "      <th>Predicted Value</th>\n",
       "      <th>Difference</th>\n",
       "    </tr>\n",
       "  </thead>\n",
       "  <tbody>\n",
       "    <tr>\n",
       "      <th>12</th>\n",
       "      <td>326.14</td>\n",
       "      <td>315.05</td>\n",
       "      <td>11.09</td>\n",
       "    </tr>\n",
       "    <tr>\n",
       "      <th>30</th>\n",
       "      <td>22.78</td>\n",
       "      <td>18.46</td>\n",
       "      <td>4.32</td>\n",
       "    </tr>\n",
       "    <tr>\n",
       "      <th>39</th>\n",
       "      <td>47.31</td>\n",
       "      <td>50.57</td>\n",
       "      <td>-3.26</td>\n",
       "    </tr>\n",
       "    <tr>\n",
       "      <th>11</th>\n",
       "      <td>172.55</td>\n",
       "      <td>163.31</td>\n",
       "      <td>9.24</td>\n",
       "    </tr>\n",
       "    <tr>\n",
       "      <th>50</th>\n",
       "      <td>136.83</td>\n",
       "      <td>111.70</td>\n",
       "      <td>25.13</td>\n",
       "    </tr>\n",
       "    <tr>\n",
       "      <th>28</th>\n",
       "      <td>9.98</td>\n",
       "      <td>10.26</td>\n",
       "      <td>-0.28</td>\n",
       "    </tr>\n",
       "    <tr>\n",
       "      <th>49</th>\n",
       "      <td>53.41</td>\n",
       "      <td>57.10</td>\n",
       "      <td>-3.69</td>\n",
       "    </tr>\n",
       "    <tr>\n",
       "      <th>31</th>\n",
       "      <td>290.56</td>\n",
       "      <td>250.85</td>\n",
       "      <td>39.71</td>\n",
       "    </tr>\n",
       "    <tr>\n",
       "      <th>32</th>\n",
       "      <td>367.90</td>\n",
       "      <td>361.96</td>\n",
       "      <td>5.94</td>\n",
       "    </tr>\n",
       "    <tr>\n",
       "      <th>13</th>\n",
       "      <td>35.98</td>\n",
       "      <td>34.55</td>\n",
       "      <td>1.43</td>\n",
       "    </tr>\n",
       "  </tbody>\n",
       "</table>\n",
       "</div>"
      ],
      "text/plain": [
       "    Actual Value  Predicted Value  Difference\n",
       "12        326.14           315.05       11.09\n",
       "30         22.78            18.46        4.32\n",
       "39         47.31            50.57       -3.26\n",
       "11        172.55           163.31        9.24\n",
       "50        136.83           111.70       25.13\n",
       "28          9.98            10.26       -0.28\n",
       "49         53.41            57.10       -3.69\n",
       "31        290.56           250.85       39.71\n",
       "32        367.90           361.96        5.94\n",
       "13         35.98            34.55        1.43"
      ]
     },
     "execution_count": 60,
     "metadata": {},
     "output_type": "execute_result"
    }
   ],
   "source": [
    "predicted_value = pd.DataFrame({'Actual Value': y_test, 'Predicted Value': DT_pred, 'Difference': y_test - DT_pred})\n",
    "predicted_value.sample(10)"
   ]
  },
  {
   "cell_type": "markdown",
   "id": "69cbbedd-260f-425f-aa85-35c6101ac57f",
   "metadata": {},
   "source": [
    "Support Vector Machine (SVM)"
   ]
  },
  {
   "cell_type": "code",
   "execution_count": 61,
   "id": "7a424404-a0b2-407e-8ee9-ec2047e42f15",
   "metadata": {},
   "outputs": [
    {
     "name": "stdout",
     "output_type": "stream",
     "text": [
      " MSE: 215.08860488367654\n",
      " RMSE: 14.665899388843377\n",
      " R2: 97.88517502999497\n"
     ]
    }
   ],
   "source": [
    "from sklearn.svm import SVR\n",
    "from sklearn.metrics import mean_squared_error, r2_score\n",
    "\n",
    "svm = SVR( C=100, gamma=0.1, epsilon=0.1)\n",
    "\n",
    "svm.fit(x_train, y_train)\n",
    "\n",
    "y_train_pred = svm.predict(x_train)\n",
    "y_test_pred = svm.predict(x_test)\n",
    "\n",
    "MSE_test = mean_squared_error(y_test, y_test_pred)\n",
    "\n",
    "RMSE_test = np.sqrt(MSE_test)\n",
    "\n",
    "r2_test = r2_score(y_test, y_test_pred)\n",
    "print(\" MSE:\", MSE_test)\n",
    "print(\" RMSE:\", RMSE_test)\n",
    "print(\" R2:\", r2_test * 100)"
   ]
  },
  {
   "cell_type": "code",
   "execution_count": 62,
   "id": "b813783a-7c25-47f6-8680-278ec6f28b90",
   "metadata": {},
   "outputs": [
    {
     "name": "stdout",
     "output_type": "stream",
     "text": [
      "Trainig Score:  99.08172850834251 %\n",
      "Testing Score:  97.88517502999497 %\n"
     ]
    }
   ],
   "source": [
    "print(\"Trainig Score: \",(svm.score(x_train, y_train))*100,\"%\")\n",
    "print(\"Testing Score: \",(svm.score(x_test, y_test))*100,\"%\")"
   ]
  },
  {
   "cell_type": "code",
   "execution_count": 64,
   "id": "43742ef1-4b82-42c3-81cd-37654b7aa0ce",
   "metadata": {},
   "outputs": [
    {
     "data": {
      "text/html": [
       "<div>\n",
       "<style scoped>\n",
       "    .dataframe tbody tr th:only-of-type {\n",
       "        vertical-align: middle;\n",
       "    }\n",
       "\n",
       "    .dataframe tbody tr th {\n",
       "        vertical-align: top;\n",
       "    }\n",
       "\n",
       "    .dataframe thead th {\n",
       "        text-align: right;\n",
       "    }\n",
       "</style>\n",
       "<table border=\"1\" class=\"dataframe\">\n",
       "  <thead>\n",
       "    <tr style=\"text-align: right;\">\n",
       "      <th></th>\n",
       "      <th>Actual Value</th>\n",
       "      <th>Predicted Value</th>\n",
       "      <th>Difference</th>\n",
       "    </tr>\n",
       "  </thead>\n",
       "  <tbody>\n",
       "    <tr>\n",
       "      <th>39</th>\n",
       "      <td>47.31</td>\n",
       "      <td>42.663209</td>\n",
       "      <td>4.646791</td>\n",
       "    </tr>\n",
       "    <tr>\n",
       "      <th>29</th>\n",
       "      <td>181.75</td>\n",
       "      <td>164.082619</td>\n",
       "      <td>17.667381</td>\n",
       "    </tr>\n",
       "    <tr>\n",
       "      <th>32</th>\n",
       "      <td>367.90</td>\n",
       "      <td>337.233880</td>\n",
       "      <td>30.666120</td>\n",
       "    </tr>\n",
       "    <tr>\n",
       "      <th>20</th>\n",
       "      <td>176.52</td>\n",
       "      <td>178.972536</td>\n",
       "      <td>-2.452536</td>\n",
       "    </tr>\n",
       "    <tr>\n",
       "      <th>36</th>\n",
       "      <td>25.12</td>\n",
       "      <td>20.672715</td>\n",
       "      <td>4.447285</td>\n",
       "    </tr>\n",
       "  </tbody>\n",
       "</table>\n",
       "</div>"
      ],
      "text/plain": [
       "    Actual Value  Predicted Value  Difference\n",
       "39         47.31        42.663209    4.646791\n",
       "29        181.75       164.082619   17.667381\n",
       "32        367.90       337.233880   30.666120\n",
       "20        176.52       178.972536   -2.452536\n",
       "36         25.12        20.672715    4.447285"
      ]
     },
     "execution_count": 64,
     "metadata": {},
     "output_type": "execute_result"
    }
   ],
   "source": [
    "predicted_value = pd.DataFrame({'Actual Value': y_test, 'Predicted Value': y_test_pred, 'Difference': y_test - y_test_pred})\n",
    "predicted_value.sample(5)"
   ]
  },
  {
   "cell_type": "markdown",
   "id": "0a0e2b24-a9d0-465c-bdf6-209462848c23",
   "metadata": {},
   "source": [
    "KNN"
   ]
  },
  {
   "cell_type": "code",
   "execution_count": 65,
   "id": "ad7080a3-177e-4eb9-87ed-c0dc9c0cb9a7",
   "metadata": {},
   "outputs": [],
   "source": [
    "from sklearn.neighbors import KNeighborsRegressor\n",
    "\n",
    "knn = KNeighborsRegressor(n_neighbors=5)  \n",
    "\n",
    "knn.fit(x_train, y_train)\n",
    " \n",
    "train_score = knn.score(x_train, y_train)  \n",
    "test_score = knn.score(x_test, y_test)  \n"
   ]
  },
  {
   "cell_type": "code",
   "execution_count": 66,
   "id": "b0bfa2b2-92e4-48ac-9d2d-680e0717fd64",
   "metadata": {},
   "outputs": [
    {
     "name": "stdout",
     "output_type": "stream",
     "text": [
      "Training Score: 98.0270497797908\n",
      "Testing Score: 94.08424728500371\n"
     ]
    }
   ],
   "source": [
    "print(\"Training Score:\", train_score * 100)  \n",
    "print(\"Testing Score:\", test_score * 100)"
   ]
  },
  {
   "cell_type": "markdown",
   "id": "8156bdf9-e034-4df0-a4de-2388d546ad9e",
   "metadata": {},
   "source": [
    "Cross Validation"
   ]
  },
  {
   "cell_type": "code",
   "execution_count": 67,
   "id": "34a1e54a-af46-463a-95f1-a8f65056bac0",
   "metadata": {},
   "outputs": [
    {
     "name": "stdout",
     "output_type": "stream",
     "text": [
      "Training: 96 %\n",
      "Testing: 90 %\n"
     ]
    }
   ],
   "source": [
    "from sklearn.model_selection import cross_val_score\n",
    "print(\"Training:\", ((cross_val_score(knn, x_train, y_train))*100).mean().astype(int), \"%\")\n",
    "print(\"Testing:\", ((cross_val_score(knn, x_test, y_test))*100).mean().astype(int), \"%\")\n"
   ]
  },
  {
   "cell_type": "markdown",
   "id": "f6e7cd2f-7dd2-4801-8d66-0036f13cd9ea",
   "metadata": {},
   "source": [
    "Printing all the accuracies"
   ]
  },
  {
   "cell_type": "code",
   "execution_count": 68,
   "id": "91a80101-00c6-436f-bb42-d90f58bcea69",
   "metadata": {},
   "outputs": [
    {
     "data": {
      "text/html": [
       "<div>\n",
       "<style scoped>\n",
       "    .dataframe tbody tr th:only-of-type {\n",
       "        vertical-align: middle;\n",
       "    }\n",
       "\n",
       "    .dataframe tbody tr th {\n",
       "        vertical-align: top;\n",
       "    }\n",
       "\n",
       "    .dataframe thead th {\n",
       "        text-align: right;\n",
       "    }\n",
       "</style>\n",
       "<table border=\"1\" class=\"dataframe\">\n",
       "  <thead>\n",
       "    <tr style=\"text-align: right;\">\n",
       "      <th></th>\n",
       "      <th>Training Score</th>\n",
       "      <th>Test Score</th>\n",
       "    </tr>\n",
       "  </thead>\n",
       "  <tbody>\n",
       "    <tr>\n",
       "      <th>Linear Regression</th>\n",
       "      <td>99.454603</td>\n",
       "      <td>99.614026</td>\n",
       "    </tr>\n",
       "    <tr>\n",
       "      <th>Random Forest Regressor</th>\n",
       "      <td>99.771359</td>\n",
       "      <td>97.423615</td>\n",
       "    </tr>\n",
       "    <tr>\n",
       "      <th>Decision Tress Regressor</th>\n",
       "      <td>100.000000</td>\n",
       "      <td>91.944001</td>\n",
       "    </tr>\n",
       "    <tr>\n",
       "      <th>Support Vector Machine</th>\n",
       "      <td>99.081729</td>\n",
       "      <td>97.885175</td>\n",
       "    </tr>\n",
       "    <tr>\n",
       "      <th>K Nearest Neighbor</th>\n",
       "      <td>98.027050</td>\n",
       "      <td>94.084247</td>\n",
       "    </tr>\n",
       "  </tbody>\n",
       "</table>\n",
       "</div>"
      ],
      "text/plain": [
       "                          Training Score  Test Score\n",
       "Linear Regression              99.454603   99.614026\n",
       "Random Forest Regressor        99.771359   97.423615\n",
       "Decision Tress Regressor      100.000000   91.944001\n",
       "Support Vector Machine         99.081729   97.885175\n",
       "K Nearest Neighbor             98.027050   94.084247"
      ]
     },
     "execution_count": 68,
     "metadata": {},
     "output_type": "execute_result"
    }
   ],
   "source": [
    "all_scores = pd.DataFrame({'Linear Regression': ((lr.score(x_train, y_train))*100, (lr.score(x_test, y_test))*100),\n",
    "                           'Random Forest Regressor': ((random_forest.score(x_train, y_train))*100, (random_forest.score(x_test, y_test))*100),\n",
    "                           'Decision Tress Regressor': ((decision_tree.score(x_train, y_train))*100, (decision_tree.score(x_test, y_test))*100),\n",
    "                           'Support Vector Machine': ((svm.score(x_train, y_train))*100, (svm.score(x_test, y_test))*100),\n",
    "                           'K Nearest Neighbor': ((knn.score(x_train, y_train))*100, (knn.score(x_test, y_test))*100),})\n",
    "all_scores.T.rename(columns = {0:'Training Score', 1 : 'Test Score'})"
   ]
  },
  {
   "cell_type": "markdown",
   "id": "c6a96f83-708a-4dc4-b863-c77e35a2a2d2",
   "metadata": {},
   "source": [
    "Observation:\n",
    "\n",
    "🔹 Linear Regression\n",
    "Very high accuracy on both training and test sets.\n",
    "\n",
    "Best generalization — likely a good fit for this data.\n",
    "\n",
    "🔹 Random Forest Regressor\n",
    "Excellent training score, slight drop on test score.\n",
    "\n",
    "Mild overfitting, but still performs well.\n",
    "\n",
    "🔹 Decision Tree Regressor\n",
    "Perfect training, but test score drops.\n",
    "\n",
    "Overfitting — memorizes training data, poor generalization.\n",
    "\n",
    "🔹 Support Vector Machine\n",
    "High and balanced performance.\n",
    "\n",
    "Good generalization, slight improvement possible with tuning.\n",
    "\n",
    "🔹 K-Nearest Neighbor\n",
    "Decent accuracy but larger gap between training and test.\n",
    "\n",
    "Some overfitting, sensitive to K and data scaling."
   ]
  },
  {
   "cell_type": "code",
   "execution_count": null,
   "id": "e4e10aea-4bc1-490c-888a-a8b1bfdd3f5d",
   "metadata": {},
   "outputs": [],
   "source": []
  }
 ],
 "metadata": {
  "kernelspec": {
   "display_name": "Python 3 (ipykernel)",
   "language": "python",
   "name": "python3"
  },
  "language_info": {
   "codemirror_mode": {
    "name": "ipython",
    "version": 3
   },
   "file_extension": ".py",
   "mimetype": "text/x-python",
   "name": "python",
   "nbconvert_exporter": "python",
   "pygments_lexer": "ipython3",
   "version": "3.12.4"
  }
 },
 "nbformat": 4,
 "nbformat_minor": 5
}
